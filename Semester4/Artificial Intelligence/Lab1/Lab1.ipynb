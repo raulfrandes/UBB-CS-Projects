{
  "nbformat": 4,
  "nbformat_minor": 0,
  "metadata": {
    "colab": {
      "provenance": []
    },
    "kernelspec": {
      "name": "python3",
      "display_name": "Python 3"
    },
    "language_info": {
      "name": "python"
    }
  },
  "cells": [
    {
      "cell_type": "markdown",
      "source": [
        "1. Să se determine ultimul (din punct de vedere alfabetic) cuvânt care poate apărea într-un text care conține mai multe cuvinte separate prin ” ” (spațiu). De ex. ultimul (dpdv alfabetic) cuvânt din ”Ana are mere rosii si galbene” este cuvântul \"si\"."
      ],
      "metadata": {
        "id": "9Enu-xJ4JlAk"
      }
    },
    {
      "cell_type": "code",
      "execution_count": 4,
      "metadata": {
        "id": "ya9k88F5JVbY",
        "colab": {
          "base_uri": "https://localhost:8080/"
        },
        "outputId": "09280776-6ece-4e6e-cb6c-41eb29b928c7"
      },
      "outputs": [
        {
          "output_type": "stream",
          "name": "stdout",
          "text": [
            "The last word:  si\n",
            "The last word:  si\n",
            "The last word:  si\n",
            "The last word:  si\n",
            "The sentence is an empty string!\n",
            "The last word:  hello\n"
          ]
        }
      ],
      "source": [
        "def pb1(sentence):\n",
        "  \"\"\"\n",
        "  The function prints the last word (in alphabetical order) found in the input sentence.\n",
        "  :param sentence: string\n",
        "  \"\"\"\n",
        "  if sentence == \"\":\n",
        "    print(\"The sentence is an empty string!\")\n",
        "    return\n",
        "\n",
        "  words = sentence.split()\n",
        "\n",
        "  last_word = words[0].lower()\n",
        "  for word in words:\n",
        "    word.lower()\n",
        "    if word > last_word:\n",
        "      last_word = word\n",
        "\n",
        "  print(\"The last word: \", last_word)\n",
        "\n",
        "pb1(\"Ana are mere rosii si galbene\")\n",
        "pb1(\"Ana are Mere rosii si galbene\")\n",
        "pb1(\"Ana are mere $rosii si galbene\")\n",
        "pb1(\"Ana are 3 mere rosii si 2 galbene\")\n",
        "pb1(\"\")\n",
        "pb1(\"Hello\")"
      ]
    },
    {
      "cell_type": "code",
      "source": [
        "def ultimul_cuvant_alfabetic(text):\n",
        "    # Descompunem textul în cuvinte folosind spațiul ca separator\n",
        "    cuvinte = text.split()\n",
        "\n",
        "    # Sortăm cuvintele în ordine alfabetică\n",
        "    cuvinte.sort()\n",
        "\n",
        "    # Ultimul cuvânt din lista sortată este răspunsul\n",
        "    ultimul_cuvant = cuvinte[-1]\n",
        "\n",
        "    return ultimul_cuvant\n",
        "\n",
        "# Exemplu de utilizare\n",
        "text_exemplu = \"Ana are mere rosii si galbene\"\n",
        "rezultat = ultimul_cuvant_alfabetic(text_exemplu)\n",
        "print(f\"Ultimul cuvânt alfabetic din text este: {rezultat}\")"
      ],
      "metadata": {
        "colab": {
          "base_uri": "https://localhost:8080/"
        },
        "id": "pJcKLrKFZ_ub",
        "outputId": "188c748a-82a6-4bfe-b717-058e28f3861e"
      },
      "execution_count": 48,
      "outputs": [
        {
          "output_type": "stream",
          "name": "stdout",
          "text": [
            "Ultimul cuvânt alfabetic din text este: si\n"
          ]
        }
      ]
    },
    {
      "cell_type": "markdown",
      "source": [
        "2. Să se determine distanța Euclideană între două locații identificate prin perechi de numere. De ex. distanța între (1,5) și (4,1) este 5.0"
      ],
      "metadata": {
        "id": "qxTbHqQ9RzIL"
      }
    },
    {
      "cell_type": "code",
      "source": [
        "from math import sqrt\n",
        "\n",
        "def pb2(coord_1_x, coord_1_y, coord_2_x, coord_2_y):\n",
        "  \"\"\"\n",
        "  The function prints the Euclidean distance between the two locations.\n",
        "  :param coord_1_x: float\n",
        "  :param coord_1_y: float\n",
        "  :param coord_2_x: float\n",
        "  :param coord_2_y: float\n",
        "  \"\"\"\n",
        "  print(\"Distance: \", sqrt((coord_1_x - coord_2_x) ** 2 + (coord_1_y - coord_2_y) ** 2))\n",
        "\n",
        "pb2(1, 5, 4, 1)\n",
        "pb2(-1, -3, -4, -7)\n",
        "pb2(0, 5, 3, 0)\n",
        "pb2(0, 0, 0, 0)\n",
        "pb2(1.5, 2.5, 4.5, 5.5)"
      ],
      "metadata": {
        "colab": {
          "base_uri": "https://localhost:8080/"
        },
        "id": "aYBXpYaRR2e8",
        "outputId": "af9b99b3-2d3c-45bf-d9e4-c77e6beb9eef"
      },
      "execution_count": 5,
      "outputs": [
        {
          "output_type": "stream",
          "name": "stdout",
          "text": [
            "Distance:  5.0\n",
            "Distance:  5.0\n",
            "Distance:  5.830951894845301\n",
            "Distance:  0.0\n",
            "Distance:  4.242640687119285\n"
          ]
        }
      ]
    },
    {
      "cell_type": "code",
      "source": [
        "import numpy as np\n",
        "\n",
        "def euclidean_distance_numpy(point1, point2):\n",
        "    return np.linalg.norm(np.array(point1) - np.array(point2))\n",
        "\n",
        "# Exemplu de utilizare\n",
        "point_1 = (1, 5)\n",
        "point_2 = (4, 1)\n",
        "result_numpy = euclidean_distance_numpy(point_1, point_2)\n",
        "print(f\"Distanța Euclideană (folosind NumPy) între punctele {point_1} și {point_2} este: {result_numpy:.2f}\")"
      ],
      "metadata": {
        "colab": {
          "base_uri": "https://localhost:8080/"
        },
        "id": "Nhb3ycHaaxgI",
        "outputId": "ce206800-2a17-462a-c339-44d769f3900f"
      },
      "execution_count": 50,
      "outputs": [
        {
          "output_type": "stream",
          "name": "stdout",
          "text": [
            "Distanța Euclideană (folosind NumPy) între punctele (1, 5) și (4, 1) este: 5.00\n"
          ]
        }
      ]
    },
    {
      "cell_type": "markdown",
      "source": [
        "3. Să se determine produsul scalar a doi vectori rari care conțin numere reale. Un vector este rar atunci când conține multe elemente nule. Vectorii pot avea oricâte dimensiuni. De ex. produsul scalar a 2 vectori unisimensionali [1,0,2,0,3] și [1,2,0,3,1] este 4."
      ],
      "metadata": {
        "id": "kAjmoXHEWGNS"
      }
    },
    {
      "cell_type": "code",
      "source": [
        "def pb3(vector_1, vector_2):\n",
        "  \"\"\"\n",
        "  The function prints the scalar product of the two sparse vectors.\n",
        "  :param vector_1: list of floats\n",
        "  :param vector_2: list of floats\n",
        "  \"\"\"\n",
        "  p = 0\n",
        "\n",
        "  length = len(vector_1)\n",
        "  if length > len(vector_2):\n",
        "    length = len(vector_2)\n",
        "\n",
        "  for i in range(length):\n",
        "    p += vector_1[i] * vector_2[i]\n",
        "\n",
        "  print(\"The scalar product: \", p)\n",
        "\n",
        "pb3([1, 0, 2, 0, 3], [1, 2, 0, 3, 1])\n",
        "pb3([0, 0, 0, 0], [0, 0, 0, 0])\n",
        "pb3([0, 0, 0, 0, 5], [1, 2, 3, 4, 0])\n",
        "pb3([-1, 0, 2, 0, -3], [1, -2, 0, 3, 1])\n",
        "pb3([1, 2, 3], [1, 2, 3, 4, 5])"
      ],
      "metadata": {
        "colab": {
          "base_uri": "https://localhost:8080/"
        },
        "id": "f6zoxoTQWLk-",
        "outputId": "0df46c51-51e8-4b84-d422-e64b61f39541"
      },
      "execution_count": 6,
      "outputs": [
        {
          "output_type": "stream",
          "name": "stdout",
          "text": [
            "The scalar product:  4\n",
            "The scalar product:  0\n",
            "The scalar product:  0\n",
            "The scalar product:  -4\n",
            "The scalar product:  14\n"
          ]
        }
      ]
    },
    {
      "cell_type": "code",
      "source": [
        "def scalar_product_sparse(vector1, vector2):\n",
        "    # Calculate the intersection of keys (non-zero indices) in both vectors\n",
        "    common_indices = set(vector1.keys()) & set(vector2.keys())\n",
        "\n",
        "    # Compute the scalar product by summing the products of corresponding values\n",
        "    result = sum(vector1[index] * vector2[index] for index in common_indices)\n",
        "\n",
        "    return result\n",
        "\n",
        "# Example sparse vectors\n",
        "vector1 = {1: 3, 4: 5}\n",
        "vector2 = {1: 7, 4: 2}\n",
        "\n",
        "# Calculate the scalar product\n",
        "result = scalar_product_sparse(vector1, vector2)\n",
        "print(f\"Scalar product of the sparse vectors is: {result}\")"
      ],
      "metadata": {
        "colab": {
          "base_uri": "https://localhost:8080/"
        },
        "id": "w5kj9RElbm4_",
        "outputId": "c26b1f49-4243-4821-b0a0-afa43ab99eac"
      },
      "execution_count": 51,
      "outputs": [
        {
          "output_type": "stream",
          "name": "stdout",
          "text": [
            "Scalar product of the sparse vectors is: 31\n"
          ]
        }
      ]
    },
    {
      "cell_type": "markdown",
      "source": [
        "4. Să se determine cuvintele unui text care apar exact o singură dată în acel text. De ex. cuvintele care apar o singură dată în ”ana are ana are mere rosii ana\" sunt: 'mere' și 'rosii'."
      ],
      "metadata": {
        "id": "7ey30EARhTpp"
      }
    },
    {
      "cell_type": "code",
      "source": [
        "def pb4(sentence):\n",
        "  \"\"\"\n",
        "  The function prints the words that appear exactly once in the input text.\n",
        "  :param sentence: string\n",
        "  \"\"\"\n",
        "  words = sentence.split()\n",
        "  print(\"The words with only one appearance: \", end=\"\")\n",
        "  for word in set(words):\n",
        "    word = word.lower()\n",
        "    if words.count(word) == 1:\n",
        "      print(word, end=\" \")\n",
        "  print()\n",
        "\n",
        "pb4(\"ana are ana are mere rosii ana\")\n",
        "pb4(\"apple banana cherry\")\n",
        "pb4(\"apple apple banana banana cherry cherry\")\n",
        "pb4(\"Apple banana Cherry cherry\")\n",
        "pb4(\"\")"
      ],
      "metadata": {
        "colab": {
          "base_uri": "https://localhost:8080/"
        },
        "id": "DPrALwZ0hWz-",
        "outputId": "1281d50b-c839-4dae-936f-ba3ef39dec9c"
      },
      "execution_count": 11,
      "outputs": [
        {
          "output_type": "stream",
          "name": "stdout",
          "text": [
            "The words with only one appearance: rosii mere \n",
            "The words with only one appearance: apple banana cherry \n",
            "The words with only one appearance: \n",
            "The words with only one appearance: cherry banana cherry \n",
            "The words with only one appearance: \n"
          ]
        }
      ]
    },
    {
      "cell_type": "code",
      "source": [
        "def cuvinte_unice(text):\n",
        "    # Inițializăm un dicționar pentru a număra frecvența cuvintelor\n",
        "    frecventa_cuvinte = {}\n",
        "\n",
        "    # Împărțim textul în cuvinte folosind spațiile ca separator\n",
        "    cuvinte = text.split()\n",
        "\n",
        "    # Iterăm prin fiecare cuvânt și actualizăm frecvența\n",
        "    for cuvant in cuvinte:\n",
        "        # Eliminăm semnele de punctuație pentru a obține cuvinte curate\n",
        "        cuvant = cuvant.strip(\".,!?\")\n",
        "        # Convertim cuvântul la litere mici pentru a evita diferențele de capitalizare\n",
        "        cuvant = cuvant.lower()\n",
        "\n",
        "        # Incrementăm frecvența cuvântului în dicționar\n",
        "        frecventa_cuvinte[cuvant] = frecventa_cuvinte.get(cuvant, 0) + 1\n",
        "\n",
        "    # Inițializăm o listă pentru cuvintele unice\n",
        "    cuvinte_unice = []\n",
        "\n",
        "    # Iterăm prin dicționar și adăugăm cuvintele cu frecvența 1 la lista rezultatelor\n",
        "    for cuvant, frecventa in frecventa_cuvinte.items():\n",
        "        if frecventa == 1:\n",
        "            cuvinte_unice.append(cuvant)\n",
        "\n",
        "    return cuvinte_unice\n",
        "\n",
        "# Exemplu de utilizare\n",
        "text_exemplu = \"ana are ana are mere rosii ana\"\n",
        "rezultat = cuvinte_unice(text_exemplu)\n",
        "print(\"Cuvintele unice din text sunt:\", rezultat)\n"
      ],
      "metadata": {
        "colab": {
          "base_uri": "https://localhost:8080/"
        },
        "id": "lPRmjjb0cf9d",
        "outputId": "ff65ae71-b72a-4e89-d831-2b8e5cb19af8"
      },
      "execution_count": 52,
      "outputs": [
        {
          "output_type": "stream",
          "name": "stdout",
          "text": [
            "Cuvintele unice din text sunt: ['mere', 'rosii']\n"
          ]
        }
      ]
    },
    {
      "cell_type": "markdown",
      "source": [
        "5. Pentru un șir cu n elemente care conține valori din mulțimea {1, 2, ..., n - 1} astfel încât o singură valoare se repetă de două ori, să se identifice acea valoare care se repetă. De ex. în șirul [1,2,3,4,2] valoarea 2 apare de două ori."
      ],
      "metadata": {
        "id": "nk9AY197qETl"
      }
    },
    {
      "cell_type": "code",
      "source": [
        "def pb5(arr):\n",
        "  \"\"\"\n",
        "  The function prints the value that is repeated twice in the input list.\n",
        "  :param arr: list of integers\n",
        "  \"\"\"\n",
        "  print(\"The duplicate value is: \", end=\"\")\n",
        "  for i in range(len(arr)):\n",
        "    if arr[i] in arr[i+1:]:\n",
        "      print(arr[i])\n",
        "      break\n",
        "\n",
        "pb5([1, 2, 3, 4, 2])\n",
        "pb5([1, 3, 5, 2, 6, 4, 7, 8, 9, 10, 11, 12, 13, 14, 15, 16, 17, 18, 19, 20, 20])\n",
        "pb5([1, 2, 3, 4, 5, 6, 7, 8, 9, 10, 11, 12, 13, 14, 15, 16, 17, 18, 19, 19])\n",
        "pb5([-1, 2, -3, 4, 2])\n",
        "pb5([0, 2, 3, 4, 2])"
      ],
      "metadata": {
        "colab": {
          "base_uri": "https://localhost:8080/"
        },
        "id": "eQU1CyY5qIRU",
        "outputId": "c6fe746e-181c-49a3-a089-6730d513a4f0"
      },
      "execution_count": 12,
      "outputs": [
        {
          "output_type": "stream",
          "name": "stdout",
          "text": [
            "The duplicate value is: 2\n",
            "The duplicate value is: 20\n",
            "The duplicate value is: 19\n",
            "The duplicate value is: 2\n",
            "The duplicate value is: 2\n"
          ]
        }
      ]
    },
    {
      "cell_type": "code",
      "source": [
        "def find_repeated_value(arr):\n",
        "    # Calculate the expected sum of the first n-1 natural numbers\n",
        "    expected_sum = (len(arr) - 1) * len(arr) // 2\n",
        "\n",
        "    # Calculate the actual sum of the array\n",
        "    actual_sum = sum(arr)\n",
        "\n",
        "    # The difference between the expected and actual sums is the repeated value\n",
        "    return actual_sum - expected_sum\n",
        "\n",
        "# Example usage\n",
        "arr_example = [1, 2, 3, 4, 2]\n",
        "repeated_value = find_repeated_value(arr_example)\n",
        "print(f\"The repeated value in the array is: {repeated_value}\")\n"
      ],
      "metadata": {
        "colab": {
          "base_uri": "https://localhost:8080/"
        },
        "id": "w1S3dcMdh_ea",
        "outputId": "7757361f-8df4-4b4c-83da-b2e29c802e7a"
      },
      "execution_count": 54,
      "outputs": [
        {
          "output_type": "stream",
          "name": "stdout",
          "text": [
            "The repeated value in the array is: 2\n"
          ]
        }
      ]
    },
    {
      "cell_type": "markdown",
      "source": [
        "6. Pentru un șir cu n numere întregi care conține și duplicate, să se determine elementul majoritar (care apare de mai mult de n / 2 ori). De ex. 2 este elementul majoritar în șirul [2,8,7,2,2,5,2,3,1,2,2]."
      ],
      "metadata": {
        "id": "ckrmNIDLrtq7"
      }
    },
    {
      "cell_type": "code",
      "source": [
        "def pb6(arr):\n",
        "  \"\"\"\n",
        "  The function prints the majority element, i.e., the element that appears more than n / 2 times in the list, where n is the length of the list.\n",
        "  :param arr: list of integers\n",
        "  \"\"\"\n",
        "  print(\"The majority element: \", end=\"\")\n",
        "  for n in set(arr):\n",
        "    if arr.count(n) > len(arr) / 2:\n",
        "      print(n)\n",
        "      return\n",
        "  print(\"No majority element present in the list.\")\n",
        "\n",
        "pb6([2, 8, 7, 2, 2, 5, 2, 3, 1, 2, 2])\n",
        "pb6([3, 3, 2, 2, 2, 2, 2, 1, 1])\n",
        "pb6([1, 2, 3, 4, 5])\n",
        "pb6([-1, -1, -1, 0, 1, 1, 1, 1])\n",
        "pb6([])"
      ],
      "metadata": {
        "colab": {
          "base_uri": "https://localhost:8080/"
        },
        "id": "LInf3LzsrwCl",
        "outputId": "0c03676d-a761-4c39-8fd6-ebc9d55c3383"
      },
      "execution_count": 16,
      "outputs": [
        {
          "output_type": "stream",
          "name": "stdout",
          "text": [
            "The majority element: 2\n",
            "The majority element: 2\n",
            "The majority element: No majority element present in the list.\n",
            "The majority element: No majority element present in the list.\n",
            "The majority element: No majority element present in the list.\n"
          ]
        }
      ]
    },
    {
      "cell_type": "code",
      "source": [
        "def find_majority_element(arr):\n",
        "    candidate = None\n",
        "    count = 0\n",
        "    for num in arr:\n",
        "        if count == 0:\n",
        "            candidate = num\n",
        "        if num == candidate:\n",
        "            count += 1\n",
        "        else:\n",
        "            count -= 1\n",
        "\n",
        "    # Verificăm dacă candidatul este elementul majoritar\n",
        "    if arr.count(candidate) > len(arr) // 2:\n",
        "        return candidate\n",
        "    else:\n",
        "        return -1\n",
        "\n",
        "# Exemplu de utilizare\n",
        "arr_exemplu = [2, 8, 7, 2, 2, 5, 2, 3, 1, 2, 2]\n",
        "element_majoritar = find_majority_element(arr_exemplu)\n",
        "print(f\"Elementul majoritar în șir este: {element_majoritar}\")\n"
      ],
      "metadata": {
        "colab": {
          "base_uri": "https://localhost:8080/"
        },
        "id": "GOd3C53umik7",
        "outputId": "5831e1e9-799b-4988-ef54-058868961397"
      },
      "execution_count": 55,
      "outputs": [
        {
          "output_type": "stream",
          "name": "stdout",
          "text": [
            "Elementul majoritar în șir este: 2\n"
          ]
        }
      ]
    },
    {
      "cell_type": "markdown",
      "source": [
        "7. Să se determine al k-lea cel mai mare element al unui șir de numere cu n elemente (k < n). De ex. al 2-lea cel mai mare element din șirul [7,4,6,3,9,1] este 7."
      ],
      "metadata": {
        "id": "3fN2Pj_ounY_"
      }
    },
    {
      "cell_type": "code",
      "source": [
        "def pb7(arr, k):\n",
        "  \"\"\"\n",
        "  The function prints the k-th largest element in the input list.\n",
        "  :param arr: list of integers\n",
        "  :param k: integer\n",
        "  \"\"\"\n",
        "  arr.sort(reverse=True)\n",
        "  print(f\"The {k}-th largest element: \", end=\"\")\n",
        "  for n in arr:\n",
        "    if k == 1:\n",
        "      print(n)\n",
        "      return\n",
        "    k -= 1\n",
        "  print(f\"K should be less than {len(arr)}!\")\n",
        "\n",
        "pb7([7, 4, 6, 3, 9, 1], 2)\n",
        "pb7([10, 8, 15, 20, 13, 25, 18], 3)\n",
        "pb7([7, 4, 6, 3, 9, 1], 1)\n",
        "pb7([7, 4, 6, 3, 9, 1], 6)\n",
        "pb7([7, 4, 6, 3, 9, 1], 7)"
      ],
      "metadata": {
        "colab": {
          "base_uri": "https://localhost:8080/"
        },
        "id": "xdm3qQP4up-8",
        "outputId": "78af4fdd-c5f9-45c8-e1eb-421002bb332e"
      },
      "execution_count": 23,
      "outputs": [
        {
          "output_type": "stream",
          "name": "stdout",
          "text": [
            "The 2-th largest element: 7\n",
            "The 3-th largest element: 18\n",
            "The 1-th largest element: 9\n",
            "The 6-th largest element: 1\n",
            "The 7-th largest element: K should be less than 6!\n"
          ]
        }
      ]
    },
    {
      "cell_type": "code",
      "source": [
        "def kth_largest_element(nums, k):\n",
        "    sorted_nums = sorted(nums, reverse=True)\n",
        "    return sorted_nums[k - 1]\n",
        "\n",
        "# Exemplu de utilizare\n",
        "input_nums = [7, 4, 6, 3, 9, 1]\n",
        "k_value = 2\n",
        "result = kth_largest_element(input_nums, k_value)\n",
        "print(f\"Al {k_value}-lea cel mai mare element este: {result}\")\n"
      ],
      "metadata": {
        "colab": {
          "base_uri": "https://localhost:8080/"
        },
        "id": "6p5JBY9vnWKC",
        "outputId": "2586eb84-035d-47c3-8b07-a59864e9e1ce"
      },
      "execution_count": 56,
      "outputs": [
        {
          "output_type": "stream",
          "name": "stdout",
          "text": [
            "Al 2-lea cel mai mare element este: 7\n"
          ]
        }
      ]
    },
    {
      "cell_type": "markdown",
      "source": [
        "8. Să se genereze toate numerele (în reprezentare binară) cuprinse între 1 și n. De ex. dacă n = 4, numerele sunt: 1, 10, 11, 100."
      ],
      "metadata": {
        "id": "VzFjD7znzltC"
      }
    },
    {
      "cell_type": "code",
      "source": [
        "def pb8(n):\n",
        "  \"\"\"\n",
        "  The function prints all the binary numbers from 1 to n.\n",
        "  :param n: integer\n",
        "  \"\"\"\n",
        "  if n < 1:\n",
        "    print(\"Not a valid number\")\n",
        "    return\n",
        "  print(f\"The binary numbers from 1 to {n}: \", end=\"\")\n",
        "  for i in range(1, n + 1):\n",
        "    x = bin(i)\n",
        "    print(str(x)[2:], end=\" \")\n",
        "  print()\n",
        "\n",
        "pb8(4)\n",
        "pb8(1)\n",
        "pb8(8)\n",
        "pb8(0)\n",
        "pb8(-5)"
      ],
      "metadata": {
        "id": "A8RGYFtXzpSo",
        "colab": {
          "base_uri": "https://localhost:8080/"
        },
        "outputId": "35dde135-d761-4175-c9b6-00ad7316148c"
      },
      "execution_count": 30,
      "outputs": [
        {
          "output_type": "stream",
          "name": "stdout",
          "text": [
            "The binary numbers from 1 to 4: 1 10 11 100 \n",
            "The binary numbers from 1 to 1: 1 \n",
            "The binary numbers from 1 to 8: 1 10 11 100 101 110 111 1000 \n",
            "Not a valid number\n",
            "Not a valid number\n"
          ]
        }
      ]
    },
    {
      "cell_type": "code",
      "source": [
        "def generate_binary_numbers(n):\n",
        "    # Creăm o coadă goală și adăugăm \"1\" în ea\n",
        "    queue = [\"1\"]\n",
        "\n",
        "    # Rulăm de n ori pentru a genera și afișa numerele binare\n",
        "    for i in range(n):\n",
        "        # Extragem primul element din coadă și îl afișăm\n",
        "        current_number = queue.pop(0)\n",
        "        print(current_number, end=\" \")\n",
        "\n",
        "        # Adăugăm \"0\" și \"1\" la sfârșitul elementului curent și le punem în coadă\n",
        "        queue.append(current_number + \"0\")\n",
        "        queue.append(current_number + \"1\")\n",
        "\n",
        "# Exemplu de utilizare\n",
        "n_value = 4\n",
        "print(f\"Numerele binare între 1 și {n_value} sunt:\")\n",
        "generate_binary_numbers(n_value)\n"
      ],
      "metadata": {
        "colab": {
          "base_uri": "https://localhost:8080/"
        },
        "id": "SjQBLte8nk0C",
        "outputId": "4a69bf3f-ade1-4b88-b2a2-590e90bf5858"
      },
      "execution_count": 57,
      "outputs": [
        {
          "output_type": "stream",
          "name": "stdout",
          "text": [
            "Numerele binare între 1 și 4 sunt:\n",
            "1 10 11 100 "
          ]
        }
      ]
    },
    {
      "cell_type": "markdown",
      "source": [
        "9. Considerându-se o matrice cu n x m elemente întregi și o listă cu perechi formate din coordonatele a 2 căsuțe din matrice ((p,q) și (r,s)), să se calculeze suma elementelor din sub-matricile identificate de fieare pereche.\n",
        "\n",
        "De ex, pt matricea\n",
        "[[0, 2, 5, 4, 1],\n",
        "[4, 8, 2, 3, 7],\n",
        "[6, 3, 4, 6, 2],\n",
        "[7, 3, 1, 8, 3],\n",
        "[1, 5, 7, 9, 4]]\n",
        "și lista de perechi ((1, 1) și (3, 3)), ((2, 2) și (4, 4)), suma elementelor din prima sub-matrice este 38, iar suma elementelor din a 2-a sub-matrice este 44."
      ],
      "metadata": {
        "id": "y7-h54PZgUJI"
      }
    },
    {
      "cell_type": "code",
      "source": [
        "def pb9(matrix, pairs):\n",
        "  \"\"\"\n",
        "  The function prints the sum of elements in each sub-matrix identified by the pairs of coordinates.\n",
        "  :param matrix: list of lists of integers\n",
        "  :param pairs: list of tuples of tuples\n",
        "  \"\"\"\n",
        "  for pair in pairs:\n",
        "    s = 0\n",
        "    for a in range(pair[0][0], pair[1][0] + 1):\n",
        "      for b in range(pair[0][1], pair[1][1] + 1):\n",
        "        s += matrix[a][b]\n",
        "\n",
        "    print(f\"For the {pair} sub-matrix: {s}\")\n",
        "  print()\n",
        "\n",
        "matrix = [\n",
        "    [0, 2, 5, 4, 1],\n",
        "    [4, 8, 2, 3, 7],\n",
        "    [6, 3, 4, 6, 2],\n",
        "    [7, 3, 1, 8, 3],\n",
        "    [1, 5, 7, 9, 4]\n",
        "]\n",
        "pairs = [((1, 1), (3, 3)), ((2, 2), (4, 4))]\n",
        "pb9(matrix, pairs)\n",
        "\n",
        "matrix = [\n",
        "    [1, 2, 3, 4, 5],\n",
        "    [6, 7, 8, 9, 10],\n",
        "    [11, 12, 13, 14, 15],\n",
        "    [16, 17, 18, 19, 20],\n",
        "    [21, 22, 23, 24, 25]\n",
        "]\n",
        "pairs = [((0, 0), (2, 2)), ((1, 1), (3, 3))]\n",
        "pb9(matrix, pairs)\n",
        "\n",
        "matrix = [[42]]\n",
        "pairs = [((0, 0), (0, 0))]\n",
        "pb9(matrix, pairs)"
      ],
      "metadata": {
        "colab": {
          "base_uri": "https://localhost:8080/"
        },
        "id": "sjCsyP4kgj1i",
        "outputId": "db1d5b30-341f-4295-ad7f-b37e4cd1e039"
      },
      "execution_count": 34,
      "outputs": [
        {
          "output_type": "stream",
          "name": "stdout",
          "text": [
            "For the ((1, 1), (3, 3)) sub-matrix: 38\n",
            "For the ((2, 2), (4, 4)) sub-matrix: 44\n",
            "\n",
            "For the ((0, 0), (2, 2)) sub-matrix: 63\n",
            "For the ((1, 1), (3, 3)) sub-matrix: 117\n",
            "\n",
            "For the ((0, 0), (0, 0)) sub-matrix: 42\n",
            "\n"
          ]
        }
      ]
    },
    {
      "cell_type": "code",
      "source": [
        "def calculate_submatrix_sum(matrix, pairs):\n",
        "    n, m = len(matrix), len(matrix[0])\n",
        "    total_sum = 0\n",
        "\n",
        "    for p, q, r, s in pairs:\n",
        "        for i in range(p, r + 1):\n",
        "            for j in range(q, s + 1):\n",
        "                top_left = (i - p + 1) * (j - q + 1)\n",
        "                bottom_right = (r - i + 1) * (s - j + 1)\n",
        "                total_sum += top_left * bottom_right * matrix[i][j]\n",
        "\n",
        "    return total_sum\n",
        "\n",
        "# Exemplu de utilizare\n",
        "input_matrix = [\n",
        "    [0, 2, 5, 4, 1],\n",
        "    [4, 8, 2, 3, 7],\n",
        "    [6, 3, 4, 6, 2],\n",
        "    [7, 3, 1, 8, 3],\n",
        "    [1, 5, 7, 9, 4]\n",
        "]\n",
        "\n",
        "pairs_list = [((1, 1), (3, 3)), ((2, 2), (4, 4))]\n",
        "result = calculate_submatrix_sum(input_matrix, pairs_list)\n",
        "\n",
        "print(f\"Suma elementelor din sub-matricele date este: {result}\")\n"
      ],
      "metadata": {
        "colab": {
          "base_uri": "https://localhost:8080/",
          "height": 332
        },
        "id": "HtW5_pIgn9cj",
        "outputId": "cd5f37e3-8379-4b82-af66-a8fc59c1f2a1"
      },
      "execution_count": 58,
      "outputs": [
        {
          "output_type": "error",
          "ename": "ValueError",
          "evalue": "not enough values to unpack (expected 4, got 2)",
          "traceback": [
            "\u001b[0;31m---------------------------------------------------------------------------\u001b[0m",
            "\u001b[0;31mValueError\u001b[0m                                Traceback (most recent call last)",
            "\u001b[0;32m<ipython-input-58-b890d9e6a8c7>\u001b[0m in \u001b[0;36m<cell line: 24>\u001b[0;34m()\u001b[0m\n\u001b[1;32m     22\u001b[0m \u001b[0;34m\u001b[0m\u001b[0m\n\u001b[1;32m     23\u001b[0m \u001b[0mpairs_list\u001b[0m \u001b[0;34m=\u001b[0m \u001b[0;34m[\u001b[0m\u001b[0;34m(\u001b[0m\u001b[0;34m(\u001b[0m\u001b[0;36m1\u001b[0m\u001b[0;34m,\u001b[0m \u001b[0;36m1\u001b[0m\u001b[0;34m)\u001b[0m\u001b[0;34m,\u001b[0m \u001b[0;34m(\u001b[0m\u001b[0;36m3\u001b[0m\u001b[0;34m,\u001b[0m \u001b[0;36m3\u001b[0m\u001b[0;34m)\u001b[0m\u001b[0;34m)\u001b[0m\u001b[0;34m,\u001b[0m \u001b[0;34m(\u001b[0m\u001b[0;34m(\u001b[0m\u001b[0;36m2\u001b[0m\u001b[0;34m,\u001b[0m \u001b[0;36m2\u001b[0m\u001b[0;34m)\u001b[0m\u001b[0;34m,\u001b[0m \u001b[0;34m(\u001b[0m\u001b[0;36m4\u001b[0m\u001b[0;34m,\u001b[0m \u001b[0;36m4\u001b[0m\u001b[0;34m)\u001b[0m\u001b[0;34m)\u001b[0m\u001b[0;34m]\u001b[0m\u001b[0;34m\u001b[0m\u001b[0;34m\u001b[0m\u001b[0m\n\u001b[0;32m---> 24\u001b[0;31m \u001b[0mresult\u001b[0m \u001b[0;34m=\u001b[0m \u001b[0mcalculate_submatrix_sum\u001b[0m\u001b[0;34m(\u001b[0m\u001b[0minput_matrix\u001b[0m\u001b[0;34m,\u001b[0m \u001b[0mpairs_list\u001b[0m\u001b[0;34m)\u001b[0m\u001b[0;34m\u001b[0m\u001b[0;34m\u001b[0m\u001b[0m\n\u001b[0m\u001b[1;32m     25\u001b[0m \u001b[0;34m\u001b[0m\u001b[0m\n\u001b[1;32m     26\u001b[0m \u001b[0mprint\u001b[0m\u001b[0;34m(\u001b[0m\u001b[0;34mf\"Suma elementelor din sub-matricele date este: {result}\"\u001b[0m\u001b[0;34m)\u001b[0m\u001b[0;34m\u001b[0m\u001b[0;34m\u001b[0m\u001b[0m\n",
            "\u001b[0;32m<ipython-input-58-b890d9e6a8c7>\u001b[0m in \u001b[0;36mcalculate_submatrix_sum\u001b[0;34m(matrix, pairs)\u001b[0m\n\u001b[1;32m      3\u001b[0m     \u001b[0mtotal_sum\u001b[0m \u001b[0;34m=\u001b[0m \u001b[0;36m0\u001b[0m\u001b[0;34m\u001b[0m\u001b[0;34m\u001b[0m\u001b[0m\n\u001b[1;32m      4\u001b[0m \u001b[0;34m\u001b[0m\u001b[0m\n\u001b[0;32m----> 5\u001b[0;31m     \u001b[0;32mfor\u001b[0m \u001b[0mp\u001b[0m\u001b[0;34m,\u001b[0m \u001b[0mq\u001b[0m\u001b[0;34m,\u001b[0m \u001b[0mr\u001b[0m\u001b[0;34m,\u001b[0m \u001b[0ms\u001b[0m \u001b[0;32min\u001b[0m \u001b[0mpairs\u001b[0m\u001b[0;34m:\u001b[0m\u001b[0;34m\u001b[0m\u001b[0;34m\u001b[0m\u001b[0m\n\u001b[0m\u001b[1;32m      6\u001b[0m         \u001b[0;32mfor\u001b[0m \u001b[0mi\u001b[0m \u001b[0;32min\u001b[0m \u001b[0mrange\u001b[0m\u001b[0;34m(\u001b[0m\u001b[0mp\u001b[0m\u001b[0;34m,\u001b[0m \u001b[0mr\u001b[0m \u001b[0;34m+\u001b[0m \u001b[0;36m1\u001b[0m\u001b[0;34m)\u001b[0m\u001b[0;34m:\u001b[0m\u001b[0;34m\u001b[0m\u001b[0;34m\u001b[0m\u001b[0m\n\u001b[1;32m      7\u001b[0m             \u001b[0;32mfor\u001b[0m \u001b[0mj\u001b[0m \u001b[0;32min\u001b[0m \u001b[0mrange\u001b[0m\u001b[0;34m(\u001b[0m\u001b[0mq\u001b[0m\u001b[0;34m,\u001b[0m \u001b[0ms\u001b[0m \u001b[0;34m+\u001b[0m \u001b[0;36m1\u001b[0m\u001b[0;34m)\u001b[0m\u001b[0;34m:\u001b[0m\u001b[0;34m\u001b[0m\u001b[0;34m\u001b[0m\u001b[0m\n",
            "\u001b[0;31mValueError\u001b[0m: not enough values to unpack (expected 4, got 2)"
          ]
        }
      ]
    },
    {
      "cell_type": "markdown",
      "source": [
        "10. Considerându-se o matrice cu n x m elemente binare (0 sau 1) sortate crescător pe linii, să se identifice indexul liniei care conține cele mai multe elemente de 1.\n",
        "\n",
        "De ex. în matricea\n",
        "[[0,0,0,1,1],\n",
        "[0,1,1,1,1],\n",
        "[0,0,1,1,1]]\n",
        "a doua linie conține cele mai multe elemente 1."
      ],
      "metadata": {
        "id": "x4cmpiREmYWi"
      }
    },
    {
      "cell_type": "code",
      "source": [
        "def pb10(matrix):\n",
        "  \"\"\"\n",
        "  The function prints the index of the row containing the most number of 1s.\n",
        "  :param matrix: list of lists of integers\n",
        "  \"\"\"\n",
        "  k = 0\n",
        "  j = len(matrix[0]) - 1\n",
        "  for i in range(len(matrix)):\n",
        "    while(matrix[i][j] == 1):\n",
        "      k = i\n",
        "      j -= 1\n",
        "      if j < 0:\n",
        "        print(\"Line: \", k)\n",
        "        return\n",
        "\n",
        "  print(\"Line: \", k)\n",
        "\n",
        "matrix = [\n",
        "    [0, 0, 0, 1, 1],\n",
        "    [0, 1, 1, 1, 1],\n",
        "    [0, 0, 1, 1, 1]\n",
        "]\n",
        "pb10(matrix)\n",
        "\n",
        "matrix = [\n",
        "    [0, 1, 1, 1],\n",
        "    [0, 1, 1, 1],\n",
        "    [0, 1, 1, 1]\n",
        "]\n",
        "pb10(matrix)\n",
        "\n",
        "matrix = [[0, 1, 1, 1, 1]]\n",
        "pb10(matrix)\n",
        "\n",
        "matrix = [\n",
        "    [0],\n",
        "    [0],\n",
        "    [1],\n",
        "    [1],\n",
        "    [1]\n",
        "]\n",
        "pb10(matrix)\n",
        "\n",
        "matrix = [\n",
        "    [0, 0, 0, 0, 1, 1, 1],\n",
        "    [0, 0, 1, 1, 1, 1, 1],\n",
        "    [0, 1, 1, 1, 1, 1, 1],\n",
        "    [0, 0, 0, 1, 1, 1, 1],\n",
        "    [0, 0, 0, 0, 0, 1, 1]\n",
        "]\n",
        "pb10(matrix)"
      ],
      "metadata": {
        "colab": {
          "base_uri": "https://localhost:8080/"
        },
        "id": "Cf7b80N0mkfW",
        "outputId": "0a772371-6c2a-4ac1-f95e-eeda2c971e90"
      },
      "execution_count": 47,
      "outputs": [
        {
          "output_type": "stream",
          "name": "stdout",
          "text": [
            "Line:  1\n",
            "Line:  0\n",
            "Line:  0\n",
            "Line:  2\n",
            "Line:  2\n"
          ]
        }
      ]
    },
    {
      "cell_type": "code",
      "source": [
        "import bisect\n",
        "\n",
        "def find_row_with_most_ones(matrix):\n",
        "    n, m = len(matrix), len(matrix[0])\n",
        "    max_ones = 0\n",
        "    max_index = -1\n",
        "\n",
        "    for i in range(n):\n",
        "        # Căutăm primul element 1 din linie\n",
        "        first_one_index = bisect.bisect_left(matrix[i], 1)\n",
        "        ones_count = m - first_one_index\n",
        "\n",
        "        if ones_count > max_ones:\n",
        "            max_ones = ones_count\n",
        "            max_index = i\n",
        "\n",
        "    return max_index\n",
        "\n",
        "# Exemplu de utilizare\n",
        "input_matrix = [\n",
        "    [0, 0, 0, 1, 1],\n",
        "    [0, 1, 1, 1, 1],\n",
        "    [0, 0, 1, 1, 1]\n",
        "]\n",
        "\n",
        "result_index = find_row_with_most_ones(input_matrix)\n",
        "print(f\"Linia cu cele mai multe elemente 1 este: {result_index}\")\n"
      ],
      "metadata": {
        "colab": {
          "base_uri": "https://localhost:8080/"
        },
        "id": "fmGNes4KoF2J",
        "outputId": "419bdc86-3a62-47c6-97a9-51be6208dafa"
      },
      "execution_count": 60,
      "outputs": [
        {
          "output_type": "stream",
          "name": "stdout",
          "text": [
            "Linia cu cele mai multe elemente 1 este: 1\n"
          ]
        }
      ]
    }
  ]
}