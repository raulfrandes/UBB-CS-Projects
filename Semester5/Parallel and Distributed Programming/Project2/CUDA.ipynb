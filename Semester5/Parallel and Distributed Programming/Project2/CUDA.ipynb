{
  "nbformat": 4,
  "nbformat_minor": 0,
  "metadata": {
    "colab": {
      "provenance": [],
      "gpuType": "T4"
    },
    "kernelspec": {
      "name": "python3",
      "display_name": "Python 3"
    },
    "language_info": {
      "name": "python"
    },
    "accelerator": "GPU"
  },
  "cells": [
    {
      "cell_type": "code",
      "execution_count": null,
      "metadata": {
        "id": "sYaov1Z9uggB",
        "colab": {
          "base_uri": "https://localhost:8080/"
        },
        "outputId": "09d5b4de-696e-4143-fb50-084b0f687c03"
      },
      "outputs": [
        {
          "output_type": "stream",
          "name": "stdout",
          "text": [
            "nvcc: NVIDIA (R) Cuda compiler driver\n",
            "Copyright (c) 2005-2023 NVIDIA Corporation\n",
            "Built on Tue_Aug_15_22:02:13_PDT_2023\n",
            "Cuda compilation tools, release 12.2, V12.2.140\n",
            "Build cuda_12.2.r12.2/compiler.33191640_0\n"
          ]
        }
      ],
      "source": [
        "!nvcc --version"
      ]
    },
    {
      "cell_type": "code",
      "source": [
        "!pip install nvcc4jupyter"
      ],
      "metadata": {
        "colab": {
          "base_uri": "https://localhost:8080/"
        },
        "id": "2sNHi0xrwti0",
        "outputId": "fd4a6f5e-b7cf-47e7-c202-3edb98ad3360"
      },
      "execution_count": null,
      "outputs": [
        {
          "output_type": "stream",
          "name": "stdout",
          "text": [
            "Collecting nvcc4jupyter\n",
            "  Downloading nvcc4jupyter-1.2.1-py3-none-any.whl.metadata (5.1 kB)\n",
            "Downloading nvcc4jupyter-1.2.1-py3-none-any.whl (10 kB)\n",
            "Installing collected packages: nvcc4jupyter\n",
            "Successfully installed nvcc4jupyter-1.2.1\n"
          ]
        }
      ]
    },
    {
      "cell_type": "code",
      "source": [
        "%load_ext nvcc4jupyter"
      ],
      "metadata": {
        "colab": {
          "base_uri": "https://localhost:8080/"
        },
        "id": "PrxyVNJTwxet",
        "outputId": "1b0b123f-29a7-42f6-b0d7-46b499a609b2"
      },
      "execution_count": null,
      "outputs": [
        {
          "output_type": "stream",
          "name": "stdout",
          "text": [
            "Detected platform \"Colab\". Running its setup...\n",
            "Source files will be saved in \"/tmp/tmpjtplckhs\".\n"
          ]
        }
      ]
    },
    {
      "cell_type": "code",
      "source": [
        "%%cuda\n",
        "#include <iostream>\n",
        "int main() {\n",
        "    std::cout << \"Welcome To CUDA\\n\";\n",
        "    cudaError_t err = cudaSetDevice(0);\n",
        "    if (err != cudaSuccess) {\n",
        "        std::cerr << \"CUDA device not available: \" << cudaGetErrorString(err) << std::endl;\n",
        "        return 1;\n",
        "    }\n",
        "    return 0;\n",
        "}"
      ],
      "metadata": {
        "colab": {
          "base_uri": "https://localhost:8080/"
        },
        "id": "VF-mJRXxw6Wc",
        "outputId": "5b223908-ffdf-45e2-c60b-87e6950bc427"
      },
      "execution_count": null,
      "outputs": [
        {
          "output_type": "stream",
          "name": "stdout",
          "text": [
            "Welcome To CUDA\n",
            "\n"
          ]
        }
      ]
    },
    {
      "cell_type": "code",
      "source": [
        "%%cuda\n",
        "#include <iostream>\n",
        "#include <vector>\n",
        "#include <chrono>\n",
        "#include <fstream>\n",
        "#include <sstream>\n",
        "#include <cuda_runtime.h>\n",
        "\n",
        "void readMatrixFromFile(const std::string& fileName, std::vector<std::vector<int>>& matrix) {\n",
        "    std::ifstream file(fileName);\n",
        "    if (!file.is_open()) {\n",
        "        std::cout << \"Error opening file: \" << fileName << std::endl;\n",
        "        return;\n",
        "    }\n",
        "\n",
        "    std::string line;\n",
        "    while (std::getline(file, line)) {\n",
        "      std::stringstream ss(line);\n",
        "      std::vector<int> row;\n",
        "      int value;\n",
        "      while (ss >> value) {\n",
        "        row.push_back(value);\n",
        "      }\n",
        "      matrix.push_back(row);\n",
        "    }\n",
        "\n",
        "    file.close();\n",
        "}\n",
        "\n",
        "bool areResultFilesIdentical(const std::string& fileName) {\n",
        "    std::string resultFileName = \"Result/\" + fileName + \"_result.txt\";\n",
        "    std::string sequentialResultFile = \"Result/\" + fileName + \"_sequential.txt\";\n",
        "\n",
        "    std::ifstream file1(sequentialResultFile);\n",
        "    std::ifstream file2(resultFileName);\n",
        "\n",
        "    if (!file1.is_open() || !file2.is_open()) {\n",
        "        std::cout << \"Error opening files.\" << std::endl;\n",
        "        return false;\n",
        "    }\n",
        "\n",
        "    std::string line1, line2;\n",
        "    while (std::getline(file1, line1) && std::getline(file2, line2)) {\n",
        "        line1.erase(line1.find_last_not_of(\" \\t\\r\\n\") + 1);\n",
        "        line2.erase(line2.find_last_not_of(\" \\t\\r\\n\") + 1);\n",
        "\n",
        "        if (line1 != line2) {\n",
        "            file1.close();\n",
        "            file2.close();\n",
        "            return false;\n",
        "        }\n",
        "    }\n",
        "\n",
        "    file1.close();\n",
        "    file2.close();\n",
        "    return true;\n",
        "}\n",
        "\n",
        "void writeMatrixToFile(const std::string& fileName, const std::vector<std::vector<int>>& matrix) {\n",
        "    std::ofstream file(fileName);\n",
        "    if (!file.is_open()) {\n",
        "        std::cout << \"Error opening file: \" << fileName << std::endl;\n",
        "        return;\n",
        "    }\n",
        "\n",
        "    for (const auto& row : matrix) {\n",
        "        for (const auto& val : row) {\n",
        "            file << val << \" \";\n",
        "        }\n",
        "        file << '\\n';\n",
        "    }\n",
        "\n",
        "    file.close();\n",
        "}\n",
        "\n",
        "__global__ void convolveKernel(int* matrix, int* result, int* kernel, int N, int M, int K) {\n",
        "  int row = blockIdx.x * blockDim.x + threadIdx.x;\n",
        "\n",
        "  if (row >= N) {\n",
        "      return;\n",
        "  }\n",
        "\n",
        "  for (int col = 0; col < M; col++) {\n",
        "      int value = 0;\n",
        "      for (int ki = 0; ki < K; ki++) {\n",
        "          for (int kj = 0; kj < K; kj++) {\n",
        "              int x = row + ki - K / 2;\n",
        "              int y = col + kj - K / 2;\n",
        "              int validX = min(max(x, 0), N - 1);\n",
        "              int validY = min(max(y, 0), M - 1);\n",
        "              value += matrix[validX * M + validY] * kernel[ki * K + kj];\n",
        "          }\n",
        "      }\n",
        "      result[row * M + col] = value;\n",
        "  }\n",
        "}\n",
        "\n",
        "void CUDARowsMethod(std::vector<std::vector<int>>& matrix, const std::vector<std::vector<int>>& kernel) {\n",
        "  int N = matrix.size();\n",
        "  int M = matrix[0].size();\n",
        "  int K = kernel.size();\n",
        "\n",
        "  std::vector<int> h_matrix(N * M), h_kernel(K * K), h_result(N * M, 0);\n",
        "  for (int i = 0; i < N; i++) {\n",
        "      for (int j = 0; j < M; j++) {\n",
        "          h_matrix[i * M + j] = matrix[i][j];\n",
        "      }\n",
        "  }\n",
        "\n",
        "  for (int i = 0; i < K; i++) {\n",
        "        for (int j = 0; j < K; j++) {\n",
        "            h_kernel[i * K + j] = kernel[i][j];\n",
        "        }\n",
        "    }\n",
        "\n",
        "  int *d_matrix, *d_kernel, *d_result;\n",
        "\n",
        "  cudaMalloc(&d_matrix, N * M * sizeof(int));\n",
        "  cudaMalloc(&d_kernel, K * K * sizeof(int));\n",
        "  cudaMalloc(&d_result, N * M * sizeof(int));\n",
        "\n",
        "  cudaMemcpy(d_matrix, h_matrix.data(), N * M * sizeof(int), cudaMemcpyHostToDevice);\n",
        "  cudaMemcpy(d_kernel, h_kernel.data(), K * K * sizeof(int), cudaMemcpyHostToDevice);\n",
        "\n",
        "  int threadsPerBlock = 256;\n",
        "  int blocksPerGrid = (N + threadsPerBlock - 1) / threadsPerBlock;\n",
        "\n",
        "  convolveKernel<<<blocksPerGrid, threadsPerBlock>>>(d_matrix, d_result, d_kernel, N, M, K);\n",
        "  cudaError_t kernelErr = cudaGetLastError();\n",
        "  if (kernelErr != cudaSuccess) {\n",
        "      std::cerr << \"CUDA Kernel Error: \" << cudaGetErrorString(kernelErr) << std::endl;\n",
        "      return;\n",
        "  }\n",
        "  cudaDeviceSynchronize();\n",
        "\n",
        "  cudaMemcpy(h_result.data(), d_result, N * M * sizeof(int), cudaMemcpyDeviceToHost);\n",
        "\n",
        "  for (int i = 0; i < N; i++) {\n",
        "      for (int j = 0; j < M; j++) {\n",
        "          matrix[i][j] = h_result[i * M + j];\n",
        "      }\n",
        "  }\n",
        "\n",
        "  cudaFree(d_matrix);\n",
        "  cudaFree(d_result);\n",
        "  cudaFree(d_kernel);\n",
        "}\n",
        "\n",
        "int main(int argc, char* argv[]) {\n",
        "    std::string fileName = \"matrix_100_100\";\n",
        "    std::vector<std::vector<int>> matrix;\n",
        "    readMatrixFromFile(\"TestData/\" + fileName + \".txt\", matrix);\n",
        "\n",
        "    std::vector<std::vector<int>> kernel = {\n",
        "      {1, 0, 1},\n",
        "      {0, 2, 0},\n",
        "      {-1, 0, -1}\n",
        "    };\n",
        "\n",
        "    auto startTime = std::chrono::high_resolution_clock::now();\n",
        "\n",
        "    CUDARowsMethod(matrix, kernel);\n",
        "\n",
        "    auto endTime = std::chrono::high_resolution_clock::now();\n",
        "    auto elapsed_time_ms = std::chrono::duration<double, std::milli>(endTime - startTime).count();\n",
        "    std::cout << \"Execution time: \" << elapsed_time_ms << \" ms\" << std::endl;\n",
        "\n",
        "    std::string resultFileName = \"Result/\" + fileName + \"_result.txt\";\n",
        "    writeMatrixToFile(resultFileName, matrix);\n",
        "\n",
        "    bool result = areResultFilesIdentical(fileName);\n",
        "    if (result) {\n",
        "      std::cout << \"Identical\" << std::endl;\n",
        "    } else {\n",
        "      std::cout << \"Not identical.\" << std::endl;\n",
        "    }\n",
        "\n",
        "    return 0;\n",
        "}"
      ],
      "metadata": {
        "colab": {
          "base_uri": "https://localhost:8080/"
        },
        "id": "napr21pixKnU",
        "outputId": "70dc1e38-dced-4454-969d-eb16069c8655"
      },
      "execution_count": null,
      "outputs": [
        {
          "output_type": "stream",
          "name": "stdout",
          "text": [
            "Execution time: 185.963 ms\n",
            "Identical\n",
            "\n"
          ]
        }
      ]
    }
  ]
}