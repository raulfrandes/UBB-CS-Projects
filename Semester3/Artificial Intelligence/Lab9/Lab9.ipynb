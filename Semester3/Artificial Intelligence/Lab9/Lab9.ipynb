{
  "nbformat": 4,
  "nbformat_minor": 0,
  "metadata": {
    "colab": {
      "provenance": []
    },
    "kernelspec": {
      "name": "python3",
      "display_name": "Python 3"
    },
    "language_info": {
      "name": "python"
    }
  },
  "cells": [
    {
      "cell_type": "markdown",
      "source": [
        "1. Ce fel de mesaje primesti in Inbox? Se doreste clusterizarea unor mesaje in doua categorii (spam si ham). Pentru fiecare mesaj se cunoaste textul aferent lui. Să se rezolve problema, implementându-se rutine pentru clusterizare cu k-means a mesajelor."
      ],
      "metadata": {
        "id": "jEIILshT2u64"
      }
    },
    {
      "cell_type": "code",
      "source": [
        "!wget https://raw.githubusercontent.com/lauradiosan/AI-UBB/58972ec42d7cc59fcd96aca9a8c73f2563552513/2023-2024/labs/lab09/data/spam.csv"
      ],
      "metadata": {
        "colab": {
          "base_uri": "https://localhost:8080/"
        },
        "id": "LQnHKY5y3CHX",
        "outputId": "3576ff63-8127-4506-9e99-0331ac4a241e"
      },
      "execution_count": null,
      "outputs": [
        {
          "output_type": "stream",
          "name": "stdout",
          "text": [
            "--2024-05-17 09:31:07--  https://raw.githubusercontent.com/lauradiosan/AI-UBB/58972ec42d7cc59fcd96aca9a8c73f2563552513/2023-2024/labs/lab09/data/spam.csv\n",
            "Resolving raw.githubusercontent.com (raw.githubusercontent.com)... 185.199.108.133, 185.199.109.133, 185.199.110.133, ...\n",
            "Connecting to raw.githubusercontent.com (raw.githubusercontent.com)|185.199.108.133|:443... connected.\n",
            "HTTP request sent, awaiting response... 200 OK\n",
            "Length: 495305 (484K) [text/plain]\n",
            "Saving to: ‘spam.csv’\n",
            "\n",
            "\rspam.csv              0%[                    ]       0  --.-KB/s               \rspam.csv            100%[===================>] 483.70K  --.-KB/s    in 0.007s  \n",
            "\n",
            "2024-05-17 09:31:07 (72.7 MB/s) - ‘spam.csv’ saved [495305/495305]\n",
            "\n"
          ]
        }
      ]
    },
    {
      "cell_type": "code",
      "source": [
        "import csv\n",
        "import os\n",
        "import numpy as np\n",
        "from sklearn.feature_extraction.text import CountVectorizer\n",
        "from sklearn.cluster import KMeans\n",
        "from sklearn.metrics import accuracy_score"
      ],
      "metadata": {
        "id": "AstkUdMp3hmu"
      },
      "execution_count": null,
      "outputs": []
    },
    {
      "cell_type": "code",
      "source": [
        "crtDir = os.getcwd()\n",
        "fileName = os.path.join(crtDir, 'spam.csv')\n",
        "\n",
        "data = []\n",
        "with open(fileName, encoding='utf-8-sig', errors='replace') as csvFile:\n",
        "  csvReader = csv.reader(csvFile, delimiter=',')\n",
        "  lineCount = 0\n",
        "  for row in csvReader:\n",
        "    if lineCount == 0:\n",
        "      dataNames = row\n",
        "    else:\n",
        "      data.append(row)\n",
        "    lineCount += 1\n",
        "\n",
        "inputs = [data[i][0] for i in range(len(data))][:100]\n",
        "outputs = [data[i][1] for i in range(len(data))][:100]\n",
        "labelNames = list(set(outputs))\n",
        "\n",
        "print(inputs[:2])\n",
        "print(outputs[:2])\n",
        "print(labelNames[:2])"
      ],
      "metadata": {
        "colab": {
          "base_uri": "https://localhost:8080/"
        },
        "id": "GVvL75hw3n5w",
        "outputId": "b56357b5-5b07-4c52-d3db-e900d1124a9f"
      },
      "execution_count": null,
      "outputs": [
        {
          "output_type": "stream",
          "name": "stdout",
          "text": [
            "['Go until jurong point, crazy.. Available only in bugis n great world la e buffet... Cine there got amore wat...', 'Ok lar... Joking wif u oni...']\n",
            "['ham', 'ham']\n",
            "['ham', 'spam']\n"
          ]
        }
      ]
    },
    {
      "cell_type": "code",
      "source": [
        "np.random.seed(5)\n",
        "noSamples = len(inputs)\n",
        "indexes = [i for i in range(noSamples)]\n",
        "trainSample = np.random.choice(indexes, int(0.8 * noSamples), replace=False)\n",
        "testSample = [i for i in indexes if not i in trainSample]\n",
        "\n",
        "trainInputs = [inputs[i] for i in trainSample]\n",
        "trainOutputs = [outputs[i] for i in trainSample]\n",
        "testInputs = [inputs[i] for i in testSample]\n",
        "testOutputs = [outputs[i] for i in testSample]\n",
        "\n",
        "print(trainInputs[:3])\n",
        "print(trainOutputs[:3])"
      ],
      "metadata": {
        "colab": {
          "base_uri": "https://localhost:8080/"
        },
        "id": "70YXnRXbB-xn",
        "outputId": "82f97bdf-dd74-4066-9e13-3a66283f40d1"
      },
      "execution_count": null,
      "outputs": [
        {
          "output_type": "stream",
          "name": "stdout",
          "text": [
            "['Today is \\\\song dedicated day..\\\\\" Which song will u dedicate for me? Send this to all ur valuable frnds but first rply me...\"', 'K tell me anything about you.', \"Didn't you get hep b immunisation in nigeria.\"]\n",
            "['ham', 'ham', 'ham']\n"
          ]
        }
      ]
    },
    {
      "cell_type": "code",
      "source": [
        "vectorizer = CountVectorizer()\n",
        "\n",
        "trainFeatures = vectorizer.fit_transform(trainInputs)\n",
        "testFeatures = vectorizer.transform(testInputs)\n",
        "\n",
        "print(\"vocab size:\", len(vectorizer.vocabulary_), \" words\")\n",
        "print(\"train data size: \", len(trainInputs), \" emails\")\n",
        "print(\"train Features shape: \", trainFeatures.shape)\n",
        "\n",
        "print('some words of the vocab: ', vectorizer.get_feature_names_out()[-20:])\n",
        "print('some features: ', trainFeatures.toarray()[:3])"
      ],
      "metadata": {
        "colab": {
          "base_uri": "https://localhost:8080/"
        },
        "id": "1Wb4lJcFDfzl",
        "outputId": "07968a32-22da-4219-d320-cc867cd515e3"
      },
      "execution_count": null,
      "outputs": [
        {
          "output_type": "stream",
          "name": "stdout",
          "text": [
            "vocab size: 601  words\n",
            "train data size:  80  emails\n",
            "train Features shape:  (80, 601)\n",
            "some words of the vocab:  ['words' 'work' 'world' 'worried' 'wun' 'www' 'xuhui' 'xx' 'xxx' 'yeah'\n",
            " 'year' 'yes' 'yesterday' 'yo' 'you' 'your' 'yours' 'yourself' 'yummy'\n",
            " 'yup']\n",
            "some features:  [[0 0 0 ... 0 0 0]\n",
            " [0 0 0 ... 0 0 0]\n",
            " [0 0 0 ... 0 0 0]]\n"
          ]
        }
      ]
    },
    {
      "cell_type": "code",
      "source": [
        "unsupervisedClassifier = KMeans(n_clusters=2, random_state=0, n_init=10)\n",
        "unsupervisedClassifier.fit(trainFeatures)"
      ],
      "metadata": {
        "colab": {
          "base_uri": "https://localhost:8080/",
          "height": 74
        },
        "id": "p5HUysqwLr9w",
        "outputId": "503b0fc2-f70b-4201-b468-f844ea041365"
      },
      "execution_count": null,
      "outputs": [
        {
          "output_type": "execute_result",
          "data": {
            "text/plain": [
              "KMeans(n_clusters=2, n_init=10, random_state=0)"
            ],
            "text/html": [
              "<style>#sk-container-id-4 {color: black;background-color: white;}#sk-container-id-4 pre{padding: 0;}#sk-container-id-4 div.sk-toggleable {background-color: white;}#sk-container-id-4 label.sk-toggleable__label {cursor: pointer;display: block;width: 100%;margin-bottom: 0;padding: 0.3em;box-sizing: border-box;text-align: center;}#sk-container-id-4 label.sk-toggleable__label-arrow:before {content: \"▸\";float: left;margin-right: 0.25em;color: #696969;}#sk-container-id-4 label.sk-toggleable__label-arrow:hover:before {color: black;}#sk-container-id-4 div.sk-estimator:hover label.sk-toggleable__label-arrow:before {color: black;}#sk-container-id-4 div.sk-toggleable__content {max-height: 0;max-width: 0;overflow: hidden;text-align: left;background-color: #f0f8ff;}#sk-container-id-4 div.sk-toggleable__content pre {margin: 0.2em;color: black;border-radius: 0.25em;background-color: #f0f8ff;}#sk-container-id-4 input.sk-toggleable__control:checked~div.sk-toggleable__content {max-height: 200px;max-width: 100%;overflow: auto;}#sk-container-id-4 input.sk-toggleable__control:checked~label.sk-toggleable__label-arrow:before {content: \"▾\";}#sk-container-id-4 div.sk-estimator input.sk-toggleable__control:checked~label.sk-toggleable__label {background-color: #d4ebff;}#sk-container-id-4 div.sk-label input.sk-toggleable__control:checked~label.sk-toggleable__label {background-color: #d4ebff;}#sk-container-id-4 input.sk-hidden--visually {border: 0;clip: rect(1px 1px 1px 1px);clip: rect(1px, 1px, 1px, 1px);height: 1px;margin: -1px;overflow: hidden;padding: 0;position: absolute;width: 1px;}#sk-container-id-4 div.sk-estimator {font-family: monospace;background-color: #f0f8ff;border: 1px dotted black;border-radius: 0.25em;box-sizing: border-box;margin-bottom: 0.5em;}#sk-container-id-4 div.sk-estimator:hover {background-color: #d4ebff;}#sk-container-id-4 div.sk-parallel-item::after {content: \"\";width: 100%;border-bottom: 1px solid gray;flex-grow: 1;}#sk-container-id-4 div.sk-label:hover label.sk-toggleable__label {background-color: #d4ebff;}#sk-container-id-4 div.sk-serial::before {content: \"\";position: absolute;border-left: 1px solid gray;box-sizing: border-box;top: 0;bottom: 0;left: 50%;z-index: 0;}#sk-container-id-4 div.sk-serial {display: flex;flex-direction: column;align-items: center;background-color: white;padding-right: 0.2em;padding-left: 0.2em;position: relative;}#sk-container-id-4 div.sk-item {position: relative;z-index: 1;}#sk-container-id-4 div.sk-parallel {display: flex;align-items: stretch;justify-content: center;background-color: white;position: relative;}#sk-container-id-4 div.sk-item::before, #sk-container-id-4 div.sk-parallel-item::before {content: \"\";position: absolute;border-left: 1px solid gray;box-sizing: border-box;top: 0;bottom: 0;left: 50%;z-index: -1;}#sk-container-id-4 div.sk-parallel-item {display: flex;flex-direction: column;z-index: 1;position: relative;background-color: white;}#sk-container-id-4 div.sk-parallel-item:first-child::after {align-self: flex-end;width: 50%;}#sk-container-id-4 div.sk-parallel-item:last-child::after {align-self: flex-start;width: 50%;}#sk-container-id-4 div.sk-parallel-item:only-child::after {width: 0;}#sk-container-id-4 div.sk-dashed-wrapped {border: 1px dashed gray;margin: 0 0.4em 0.5em 0.4em;box-sizing: border-box;padding-bottom: 0.4em;background-color: white;}#sk-container-id-4 div.sk-label label {font-family: monospace;font-weight: bold;display: inline-block;line-height: 1.2em;}#sk-container-id-4 div.sk-label-container {text-align: center;}#sk-container-id-4 div.sk-container {/* jupyter's `normalize.less` sets `[hidden] { display: none; }` but bootstrap.min.css set `[hidden] { display: none !important; }` so we also need the `!important` here to be able to override the default hidden behavior on the sphinx rendered scikit-learn.org. See: https://github.com/scikit-learn/scikit-learn/issues/21755 */display: inline-block !important;position: relative;}#sk-container-id-4 div.sk-text-repr-fallback {display: none;}</style><div id=\"sk-container-id-4\" class=\"sk-top-container\"><div class=\"sk-text-repr-fallback\"><pre>KMeans(n_clusters=2, n_init=10, random_state=0)</pre><b>In a Jupyter environment, please rerun this cell to show the HTML representation or trust the notebook. <br />On GitHub, the HTML representation is unable to render, please try loading this page with nbviewer.org.</b></div><div class=\"sk-container\" hidden><div class=\"sk-item\"><div class=\"sk-estimator sk-toggleable\"><input class=\"sk-toggleable__control sk-hidden--visually\" id=\"sk-estimator-id-4\" type=\"checkbox\" checked><label for=\"sk-estimator-id-4\" class=\"sk-toggleable__label sk-toggleable__label-arrow\">KMeans</label><div class=\"sk-toggleable__content\"><pre>KMeans(n_clusters=2, n_init=10, random_state=0)</pre></div></div></div></div></div>"
            ]
          },
          "metadata": {},
          "execution_count": 44
        }
      ]
    },
    {
      "cell_type": "code",
      "source": [
        "computedTestIndexes = unsupervisedClassifier.predict(testFeatures)\n",
        "computedTestOutputs = [labelNames[-value + 1] for value in computedTestIndexes]\n",
        "for i in range(0, len(testInputs)):\n",
        "  print(testInputs[i], \" -> \", computedTestOutputs[i])"
      ],
      "metadata": {
        "colab": {
          "base_uri": "https://localhost:8080/"
        },
        "id": "Dru0Aj-OMAri",
        "outputId": "35c745f8-da3b-41b5-8c1c-b7fd6dd0e473"
      },
      "execution_count": null,
      "outputs": [
        {
          "output_type": "stream",
          "name": "stdout",
          "text": [
            "As per your request 'Melle Melle (Oru Minnaminunginte Nurungu Vettam)' has been set as your callertune for all Callers. Press *9 to copy your friends Callertune  ->  ham\n",
            "WINNER!! As a valued network customer you have been selected to receivea �900 prize reward! To claim call 09061701461. Claim code KL341. Valid 12 hours only.  ->  ham\n",
            "XXXMobileMovieClub: To use your credit, click the WAP link in the next txt message or click here>> http://wap. xxxmobilemovieclub.com?n=QJKGIGHJJGCBL  ->  spam\n",
            "Oh k...i'm watching here:)  ->  spam\n",
            "Did you catch the bus ? Are you frying an egg ? Did you make a tea? Are you eating your mom's left over dinner ? Do you feel my Love ?  ->  spam\n",
            "Wait that's still not all that clear, were you not sure about me being sarcastic or that that's why x doesn't want to live with us  ->  ham\n",
            "Great! I hope you like your man well endowed. I am  &lt;#&gt;  inches...  ->  spam\n",
            "Wow. I never realized that you were so embarassed by your accomodations. I thought you liked it, since i was doing the best i could and you always seemed so happy about \\the cave\\\". I'm sorry I didn't and don't have more to give. I'm sorry i offered. I'm sorry your room was so embarassing.\"  ->  ham\n",
            "Ha ha ha good joke. Girls are situation seekers.  ->  spam\n",
            "Its a part of checking IQ  ->  spam\n",
            "As a valued customer, I am pleased to advise you that following recent review of your Mob No. you are awarded with a �1500 Bonus Prize, call 09066364589  ->  ham\n",
            "K..k:)where are you?how did you performed?  ->  spam\n",
            "I am waiting machan. Call me once you free.  ->  spam\n",
            "Thats cool. i am a gentleman and will treat you with dignity and respect.  ->  spam\n",
            "I like you peoples very much:) but am very shy pa.  ->  spam\n",
            "Does not operate after  &lt;#&gt;  or what  ->  spam\n",
            "Sorry, I'll call later  ->  spam\n",
            "Yeah do! Don���t stand to close tho- you���ll catch something!  ->  spam\n",
            "Smile in Pleasure Smile in Pain Smile when trouble pours like Rain Smile when sum1 Hurts U Smile becoz SOMEONE still Loves to see u Smiling!!  ->  spam\n",
            "Please don't text me anymore. I have nothing else to say.  ->  spam\n"
          ]
        }
      ]
    },
    {
      "cell_type": "code",
      "source": [
        "print(\"acc: \", accuracy_score(testOutputs, computedTestOutputs))"
      ],
      "metadata": {
        "colab": {
          "base_uri": "https://localhost:8080/"
        },
        "id": "9IcLe0nfNBmF",
        "outputId": "31a3ca65-658f-4423-d319-52cde1680b6e"
      },
      "execution_count": null,
      "outputs": [
        {
          "output_type": "stream",
          "name": "stdout",
          "text": [
            "acc:  0.2\n"
          ]
        }
      ]
    },
    {
      "cell_type": "code",
      "execution_count": null,
      "metadata": {
        "colab": {
          "base_uri": "https://localhost:8080/"
        },
        "id": "3j8-WwHB2m9-",
        "outputId": "5cc8e2e8-76cb-4944-bf3e-896b30638668"
      },
      "outputs": [
        {
          "output_type": "stream",
          "name": "stdout",
          "text": [
            "--2024-05-17 09:31:07--  https://raw.githubusercontent.com/lauradiosan/AI-UBB/58972ec42d7cc59fcd96aca9a8c73f2563552513/2023-2024/labs/lab09/data/reviews_mixed.csv\n",
            "Resolving raw.githubusercontent.com (raw.githubusercontent.com)... 185.199.108.133, 185.199.109.133, 185.199.110.133, ...\n",
            "Connecting to raw.githubusercontent.com (raw.githubusercontent.com)|185.199.108.133|:443... connected.\n",
            "HTTP request sent, awaiting response... 200 OK\n",
            "Length: 13075 (13K) [text/plain]\n",
            "Saving to: ‘reviews_mixed.csv’\n",
            "\n",
            "\rreviews_mixed.csv     0%[                    ]       0  --.-KB/s               \rreviews_mixed.csv   100%[===================>]  12.77K  --.-KB/s    in 0s      \n",
            "\n",
            "2024-05-17 09:31:07 (97.2 MB/s) - ‘reviews_mixed.csv’ saved [13075/13075]\n",
            "\n"
          ]
        }
      ],
      "source": [
        "!wget https://raw.githubusercontent.com/lauradiosan/AI-UBB/58972ec42d7cc59fcd96aca9a8c73f2563552513/2023-2024/labs/lab09/data/reviews_mixed.csv"
      ]
    },
    {
      "cell_type": "code",
      "source": [
        "%env LANGUAGE_KEY=a9f57b16bda4471ea0a4b376db2068ba\n",
        "%env LANGUAGE_ENDPOINT=https://generativeairaul.cognitiveservices.azure.com/"
      ],
      "metadata": {
        "colab": {
          "base_uri": "https://localhost:8080/"
        },
        "id": "SI5DT31q9Sp_",
        "outputId": "4296cd92-e0a4-4eb3-8cd1-21b9c3196665"
      },
      "execution_count": null,
      "outputs": [
        {
          "output_type": "stream",
          "name": "stdout",
          "text": [
            "env: LANGUAGE_KEY=a9f57b16bda4471ea0a4b376db2068ba\n",
            "env: LANGUAGE_ENDPOINT=https://generativeairaul.cognitiveservices.azure.com/\n"
          ]
        }
      ]
    },
    {
      "cell_type": "code",
      "source": [
        "!pip install azure-ai-textanalytics==5.2.0"
      ],
      "metadata": {
        "colab": {
          "base_uri": "https://localhost:8080/"
        },
        "id": "Femg36Q6Clqs",
        "outputId": "6cdcf521-4e04-461e-be3a-2a23ee179cef"
      },
      "execution_count": null,
      "outputs": [
        {
          "output_type": "stream",
          "name": "stdout",
          "text": [
            "Requirement already satisfied: azure-ai-textanalytics==5.2.0 in /usr/local/lib/python3.10/dist-packages (5.2.0)\n",
            "Requirement already satisfied: azure-core<2.0.0,>=1.24.0 in /usr/local/lib/python3.10/dist-packages (from azure-ai-textanalytics==5.2.0) (1.30.1)\n",
            "Requirement already satisfied: msrest>=0.7.0 in /usr/local/lib/python3.10/dist-packages (from azure-ai-textanalytics==5.2.0) (0.7.1)\n",
            "Requirement already satisfied: azure-common~=1.1 in /usr/local/lib/python3.10/dist-packages (from azure-ai-textanalytics==5.2.0) (1.1.28)\n",
            "Requirement already satisfied: typing-extensions>=4.0.1 in /usr/local/lib/python3.10/dist-packages (from azure-ai-textanalytics==5.2.0) (4.11.0)\n",
            "Requirement already satisfied: requests>=2.21.0 in /usr/local/lib/python3.10/dist-packages (from azure-core<2.0.0,>=1.24.0->azure-ai-textanalytics==5.2.0) (2.31.0)\n",
            "Requirement already satisfied: six>=1.11.0 in /usr/local/lib/python3.10/dist-packages (from azure-core<2.0.0,>=1.24.0->azure-ai-textanalytics==5.2.0) (1.16.0)\n",
            "Requirement already satisfied: certifi>=2017.4.17 in /usr/local/lib/python3.10/dist-packages (from msrest>=0.7.0->azure-ai-textanalytics==5.2.0) (2024.2.2)\n",
            "Requirement already satisfied: isodate>=0.6.0 in /usr/local/lib/python3.10/dist-packages (from msrest>=0.7.0->azure-ai-textanalytics==5.2.0) (0.6.1)\n",
            "Requirement already satisfied: requests-oauthlib>=0.5.0 in /usr/local/lib/python3.10/dist-packages (from msrest>=0.7.0->azure-ai-textanalytics==5.2.0) (1.3.1)\n",
            "Requirement already satisfied: charset-normalizer<4,>=2 in /usr/local/lib/python3.10/dist-packages (from requests>=2.21.0->azure-core<2.0.0,>=1.24.0->azure-ai-textanalytics==5.2.0) (3.3.2)\n",
            "Requirement already satisfied: idna<4,>=2.5 in /usr/local/lib/python3.10/dist-packages (from requests>=2.21.0->azure-core<2.0.0,>=1.24.0->azure-ai-textanalytics==5.2.0) (3.7)\n",
            "Requirement already satisfied: urllib3<3,>=1.21.1 in /usr/local/lib/python3.10/dist-packages (from requests>=2.21.0->azure-core<2.0.0,>=1.24.0->azure-ai-textanalytics==5.2.0) (2.0.7)\n",
            "Requirement already satisfied: oauthlib>=3.0.0 in /usr/local/lib/python3.10/dist-packages (from requests-oauthlib>=0.5.0->msrest>=0.7.0->azure-ai-textanalytics==5.2.0) (3.2.2)\n"
          ]
        }
      ]
    },
    {
      "cell_type": "code",
      "source": [
        "!pip install tensorflow tensorflow-hub"
      ],
      "metadata": {
        "colab": {
          "base_uri": "https://localhost:8080/"
        },
        "id": "UkpjUV9bVYrL",
        "outputId": "f7afc860-b960-4bee-a1c1-ff1738e874a2"
      },
      "execution_count": null,
      "outputs": [
        {
          "output_type": "stream",
          "name": "stdout",
          "text": [
            "Requirement already satisfied: tensorflow in /usr/local/lib/python3.10/dist-packages (2.15.0)\n",
            "Requirement already satisfied: tensorflow-hub in /usr/local/lib/python3.10/dist-packages (0.16.1)\n",
            "Requirement already satisfied: absl-py>=1.0.0 in /usr/local/lib/python3.10/dist-packages (from tensorflow) (1.4.0)\n",
            "Requirement already satisfied: astunparse>=1.6.0 in /usr/local/lib/python3.10/dist-packages (from tensorflow) (1.6.3)\n",
            "Requirement already satisfied: flatbuffers>=23.5.26 in /usr/local/lib/python3.10/dist-packages (from tensorflow) (24.3.25)\n",
            "Requirement already satisfied: gast!=0.5.0,!=0.5.1,!=0.5.2,>=0.2.1 in /usr/local/lib/python3.10/dist-packages (from tensorflow) (0.5.4)\n",
            "Requirement already satisfied: google-pasta>=0.1.1 in /usr/local/lib/python3.10/dist-packages (from tensorflow) (0.2.0)\n",
            "Requirement already satisfied: h5py>=2.9.0 in /usr/local/lib/python3.10/dist-packages (from tensorflow) (3.9.0)\n",
            "Requirement already satisfied: libclang>=13.0.0 in /usr/local/lib/python3.10/dist-packages (from tensorflow) (18.1.1)\n",
            "Requirement already satisfied: ml-dtypes~=0.2.0 in /usr/local/lib/python3.10/dist-packages (from tensorflow) (0.2.0)\n",
            "Requirement already satisfied: numpy<2.0.0,>=1.23.5 in /usr/local/lib/python3.10/dist-packages (from tensorflow) (1.25.2)\n",
            "Requirement already satisfied: opt-einsum>=2.3.2 in /usr/local/lib/python3.10/dist-packages (from tensorflow) (3.3.0)\n",
            "Requirement already satisfied: packaging in /usr/local/lib/python3.10/dist-packages (from tensorflow) (24.0)\n",
            "Requirement already satisfied: protobuf!=4.21.0,!=4.21.1,!=4.21.2,!=4.21.3,!=4.21.4,!=4.21.5,<5.0.0dev,>=3.20.3 in /usr/local/lib/python3.10/dist-packages (from tensorflow) (3.20.3)\n",
            "Requirement already satisfied: setuptools in /usr/local/lib/python3.10/dist-packages (from tensorflow) (67.7.2)\n",
            "Requirement already satisfied: six>=1.12.0 in /usr/local/lib/python3.10/dist-packages (from tensorflow) (1.16.0)\n",
            "Requirement already satisfied: termcolor>=1.1.0 in /usr/local/lib/python3.10/dist-packages (from tensorflow) (2.4.0)\n",
            "Requirement already satisfied: typing-extensions>=3.6.6 in /usr/local/lib/python3.10/dist-packages (from tensorflow) (4.11.0)\n",
            "Requirement already satisfied: wrapt<1.15,>=1.11.0 in /usr/local/lib/python3.10/dist-packages (from tensorflow) (1.14.1)\n",
            "Requirement already satisfied: tensorflow-io-gcs-filesystem>=0.23.1 in /usr/local/lib/python3.10/dist-packages (from tensorflow) (0.37.0)\n",
            "Requirement already satisfied: grpcio<2.0,>=1.24.3 in /usr/local/lib/python3.10/dist-packages (from tensorflow) (1.63.0)\n",
            "Requirement already satisfied: tensorboard<2.16,>=2.15 in /usr/local/lib/python3.10/dist-packages (from tensorflow) (2.15.2)\n",
            "Requirement already satisfied: tensorflow-estimator<2.16,>=2.15.0 in /usr/local/lib/python3.10/dist-packages (from tensorflow) (2.15.0)\n",
            "Requirement already satisfied: keras<2.16,>=2.15.0 in /usr/local/lib/python3.10/dist-packages (from tensorflow) (2.15.0)\n",
            "Requirement already satisfied: tf-keras>=2.14.1 in /usr/local/lib/python3.10/dist-packages (from tensorflow-hub) (2.15.1)\n",
            "Requirement already satisfied: wheel<1.0,>=0.23.0 in /usr/local/lib/python3.10/dist-packages (from astunparse>=1.6.0->tensorflow) (0.43.0)\n",
            "Requirement already satisfied: google-auth<3,>=1.6.3 in /usr/local/lib/python3.10/dist-packages (from tensorboard<2.16,>=2.15->tensorflow) (2.27.0)\n",
            "Requirement already satisfied: google-auth-oauthlib<2,>=0.5 in /usr/local/lib/python3.10/dist-packages (from tensorboard<2.16,>=2.15->tensorflow) (1.2.0)\n",
            "Requirement already satisfied: markdown>=2.6.8 in /usr/local/lib/python3.10/dist-packages (from tensorboard<2.16,>=2.15->tensorflow) (3.6)\n",
            "Requirement already satisfied: requests<3,>=2.21.0 in /usr/local/lib/python3.10/dist-packages (from tensorboard<2.16,>=2.15->tensorflow) (2.31.0)\n",
            "Requirement already satisfied: tensorboard-data-server<0.8.0,>=0.7.0 in /usr/local/lib/python3.10/dist-packages (from tensorboard<2.16,>=2.15->tensorflow) (0.7.2)\n",
            "Requirement already satisfied: werkzeug>=1.0.1 in /usr/local/lib/python3.10/dist-packages (from tensorboard<2.16,>=2.15->tensorflow) (3.0.3)\n",
            "Requirement already satisfied: cachetools<6.0,>=2.0.0 in /usr/local/lib/python3.10/dist-packages (from google-auth<3,>=1.6.3->tensorboard<2.16,>=2.15->tensorflow) (5.3.3)\n",
            "Requirement already satisfied: pyasn1-modules>=0.2.1 in /usr/local/lib/python3.10/dist-packages (from google-auth<3,>=1.6.3->tensorboard<2.16,>=2.15->tensorflow) (0.4.0)\n",
            "Requirement already satisfied: rsa<5,>=3.1.4 in /usr/local/lib/python3.10/dist-packages (from google-auth<3,>=1.6.3->tensorboard<2.16,>=2.15->tensorflow) (4.9)\n",
            "Requirement already satisfied: requests-oauthlib>=0.7.0 in /usr/local/lib/python3.10/dist-packages (from google-auth-oauthlib<2,>=0.5->tensorboard<2.16,>=2.15->tensorflow) (1.3.1)\n",
            "Requirement already satisfied: charset-normalizer<4,>=2 in /usr/local/lib/python3.10/dist-packages (from requests<3,>=2.21.0->tensorboard<2.16,>=2.15->tensorflow) (3.3.2)\n",
            "Requirement already satisfied: idna<4,>=2.5 in /usr/local/lib/python3.10/dist-packages (from requests<3,>=2.21.0->tensorboard<2.16,>=2.15->tensorflow) (3.7)\n",
            "Requirement already satisfied: urllib3<3,>=1.21.1 in /usr/local/lib/python3.10/dist-packages (from requests<3,>=2.21.0->tensorboard<2.16,>=2.15->tensorflow) (2.0.7)\n",
            "Requirement already satisfied: certifi>=2017.4.17 in /usr/local/lib/python3.10/dist-packages (from requests<3,>=2.21.0->tensorboard<2.16,>=2.15->tensorflow) (2024.2.2)\n",
            "Requirement already satisfied: MarkupSafe>=2.1.1 in /usr/local/lib/python3.10/dist-packages (from werkzeug>=1.0.1->tensorboard<2.16,>=2.15->tensorflow) (2.1.5)\n",
            "Requirement already satisfied: pyasn1<0.7.0,>=0.4.6 in /usr/local/lib/python3.10/dist-packages (from pyasn1-modules>=0.2.1->google-auth<3,>=1.6.3->tensorboard<2.16,>=2.15->tensorflow) (0.6.0)\n",
            "Requirement already satisfied: oauthlib>=3.0.0 in /usr/local/lib/python3.10/dist-packages (from requests-oauthlib>=0.7.0->google-auth-oauthlib<2,>=0.5->tensorboard<2.16,>=2.15->tensorflow) (3.2.2)\n"
          ]
        }
      ]
    },
    {
      "cell_type": "markdown",
      "source": [
        "2. Retea sociala: ce fel de mesaje ai postat? Mai tii minte ca tocmai ti-ai inceput munca ca si software developer la Facebook si ca faci parte din echipa care se ocupa cu partea de continut a platformei? Utilizatorii sunt foarte incantati de noul algoritm de detectie a filtrelor in poze, asadar poti sa te ocupi de o noua functionalitate care ar face platforma mai atractiva. Utilizatorii posteaza o gama larga de mesaje, iar in feed-urile lor apar de multe ori prea multe mesaje negative si prea putine pozitive. Facebook incearca o noua functionalitate prin care sa detecteze sentimentele dintr-un mesaj si sa filtreze feed-urile utilizatorilor. Task-ul tau este sa implementezi un algoritm care poate recunoaste sentimentele dintr-un text (pozitiv, negativ, ura, rasism, etc.). Team leaderul echipei de ML iti propune urmatorul plan de lucru:\n",
        "\n",
        " - folosirea unui model de ML gata antrenat precum cel din Azure"
      ],
      "metadata": {
        "id": "0Vdo4CCxxzLW"
      }
    },
    {
      "cell_type": "code",
      "source": [
        "from azure.core.credentials import AzureKeyCredential\n",
        "from azure.ai.textanalytics import TextAnalyticsClient\n",
        "from sklearn.feature_extraction.text import TfidfVectorizer\n",
        "import gensim\n",
        "import gensim.downloader as api\n",
        "import tensorflow_hub as hub\n",
        "import random\n",
        "from sklearn.cluster import AgglomerativeClustering\n",
        "from sklearn.mixture import GaussianMixture"
      ],
      "metadata": {
        "id": "w52Q_8p-xy6T"
      },
      "execution_count": null,
      "outputs": []
    },
    {
      "cell_type": "code",
      "source": [
        "endpoint = os.environ[\"LANGUAGE_ENDPOINT\"]\n",
        "key = os.environ[\"LANGUAGE_KEY\"]\n",
        "\n",
        "client = TextAnalyticsClient(endpoint=endpoint, credential=AzureKeyCredential(key))"
      ],
      "metadata": {
        "id": "Sa-fpmpdHlwp"
      },
      "execution_count": null,
      "outputs": []
    },
    {
      "cell_type": "code",
      "source": [
        "text = [\"By choosing a bike over a car, I’m reducing my environmental footprint. Cycling promotes eco-friendly transportation, and I’m proud to be part of that movement.\"]\n",
        "\n",
        "result = client.analyze_sentiment(text, show_opinion_mining=True)\n",
        "okResult = [t for t in result if not t.is_error]\n",
        "\n",
        "print(f\"Text: {text[0]}\")\n",
        "print(f\"Overall sentiment: {okResult[0].sentiment}\")"
      ],
      "metadata": {
        "colab": {
          "base_uri": "https://localhost:8080/"
        },
        "id": "CO39iwR0IAlp",
        "outputId": "fc3bdaa1-9551-4fa0-905d-2334f06fef39"
      },
      "execution_count": null,
      "outputs": [
        {
          "output_type": "stream",
          "name": "stdout",
          "text": [
            "Text: By choosing a bike over a car, I’m reducing my environmental footprint. Cycling promotes eco-friendly transportation, and I’m proud to be part of that movement.\n",
            "Overall sentiment: positive\n"
          ]
        }
      ]
    },
    {
      "cell_type": "markdown",
      "source": [
        " - antrenarea si testarea unui algoritm de tip k-means folosind data de tip text\n",
        "  - Considerarea unei baze cu texte etichetate cu emotii (de ex. textele din data/review_mixed.csv sau https://github.com/sarnthil/unify-emotion-datasets/tree/master/datasets)\n",
        "  - Extragerea de caracteristici din texte folosind diferite reprezentari precum: Bag of Words, TF-IDF, Word2Vec, altele.\n",
        "  - pe baza caracteristicilor extrase, antrenarea nesupervizata a unui clasificator de texte cu scopul etichetarii lor cu emotii folosind un algoritm de invatare nesupervizata bazat pe k-means (fara a folosi etichetele pt emotiile asociate fiecarui text)"
      ],
      "metadata": {
        "id": "VBf9hBMba8si"
      }
    },
    {
      "cell_type": "code",
      "source": [
        "crtDir = os.getcwd()\n",
        "fileName = os.path.join(crtDir, 'reviews_mixed.csv')\n",
        "\n",
        "data = []\n",
        "with open(fileName) as csvFile:\n",
        "  csvReader = csv.reader(csvFile, delimiter=',')\n",
        "  lineCount = 0\n",
        "  for row in csvReader:\n",
        "    if lineCount == 0:\n",
        "      dataNames = row\n",
        "    else:\n",
        "      data.append(row)\n",
        "    lineCount += 1\n",
        "\n",
        "inputs = [data[i][0] for i in range(len(data))][:100]\n",
        "outputs = [data[i][1] for i in range(len(data))][:100]\n",
        "labelNames = list(set(outputs))\n",
        "\n",
        "print(inputs[:2])\n",
        "print(outputs[:2])\n",
        "print(labelNames[:2])"
      ],
      "metadata": {
        "colab": {
          "base_uri": "https://localhost:8080/"
        },
        "id": "gwmo-tFfbG69",
        "outputId": "afcc9449-98fd-40ec-c689-7b09a4ab47ea"
      },
      "execution_count": null,
      "outputs": [
        {
          "output_type": "stream",
          "name": "stdout",
          "text": [
            "['The rooms are extremely small, practically only a bed.', 'Room safe did not work.']\n",
            "['negative', 'negative']\n",
            "['positive', 'negative']\n"
          ]
        }
      ]
    },
    {
      "cell_type": "code",
      "source": [
        "np.random.seed(5)\n",
        "noSamples = len(inputs)\n",
        "indexes = [i for i in range(noSamples)]\n",
        "trainSample = np.random.choice(indexes, int(0.8 * noSamples), replace=False)\n",
        "testSample = [i for i in indexes if not i in trainSample]\n",
        "\n",
        "trainInputs = [inputs[i] for i in trainSample]\n",
        "trainOutputs = [outputs[i] for i in trainSample]\n",
        "testInputs = [inputs[i] for i in testSample]\n",
        "testOutputs = [outputs[i] for i in testSample]\n",
        "\n",
        "print(trainInputs[:3])\n",
        "print(trainOutputs[:3])"
      ],
      "metadata": {
        "colab": {
          "base_uri": "https://localhost:8080/"
        },
        "id": "7y31T7FhlikK",
        "outputId": "fa1c64b4-5c9d-47f3-b0cf-046979e0d682"
      },
      "execution_count": null,
      "outputs": [
        {
          "output_type": "stream",
          "name": "stdout",
          "text": [
            "['Just to give you an idea: the shutters of the windows were not working, did not go neither up or down - just hanging down only one side and the other up....', 'and hip and CLEAN!', \"Toilet paper wasn't replaced everyday!\"]\n",
            "['negative', 'positive', 'negative']\n"
          ]
        }
      ]
    },
    {
      "cell_type": "code",
      "source": [
        "# Bag of Words\n",
        "vectorizerBag = CountVectorizer()\n",
        "\n",
        "trainFeaturesBag = vectorizerBag.fit_transform(trainInputs)\n",
        "testFeaturesBag = vectorizerBag.transform(testInputs)\n",
        "textBag = vectorizerBag.transform(text)\n",
        "\n",
        "print(\"vocab size: \", len(vectorizerBag.vocabulary_), \" words\")\n",
        "print(\"traindata size: \", len(trainInputs), \" reviews\")\n",
        "print(\"trainFeatures shape: \", trainFeaturesBag.shape)\n",
        "\n",
        "print(\"some words of the vocab: \", vectorizerBag.get_feature_names_out()[-20:])\n",
        "print(\"some features: \", trainFeaturesBag.toarray()[:3])\n",
        "\n",
        "print(\"Text: \", textBag.toarray())"
      ],
      "metadata": {
        "colab": {
          "base_uri": "https://localhost:8080/"
        },
        "id": "u526LjvNk0J_",
        "outputId": "f9955710-9f21-4701-aefc-eafa78dcf65d"
      },
      "execution_count": null,
      "outputs": [
        {
          "output_type": "stream",
          "name": "stdout",
          "text": [
            "vocab size:  341  words\n",
            "traindata size:  80  reviews\n",
            "trainFeatures shape:  (80, 341)\n",
            "some words of the vocab:  ['was' 'wasn' 'water' 'we' 'wear' 'well' 'were' 'wet' 'which' 'whole'\n",
            " 'window' 'windows' 'winter' 'with' 'work' 'working' 'workout' 'would'\n",
            " 'you' 'your']\n",
            "some features:  [[0 0 0 ... 0 1 0]\n",
            " [0 0 0 ... 0 0 0]\n",
            " [0 0 0 ... 0 0 0]]\n",
            "Text:  [[0 0 0 0 0 0 0 0 0 0 0 0 0 0 0 0 0 0 1 0 0 0 0 0 0 0 0 0 0 0 0 0 0 0 1 0\n",
            "  0 0 0 0 0 0 0 0 0 1 0 0 0 0 0 0 0 0 0 0 0 0 0 0 0 0 0 0 0 0 0 0 0 0 0 0\n",
            "  0 0 0 0 0 0 0 0 0 0 0 0 0 0 0 0 0 0 0 0 0 0 0 0 0 0 0 0 0 0 0 0 0 0 0 0\n",
            "  0 0 0 0 0 0 0 0 0 0 0 0 0 0 0 0 0 0 0 0 0 0 0 0 0 0 0 0 0 0 0 0 0 0 0 0\n",
            "  0 0 0 0 0 0 0 0 0 0 0 0 0 0 0 0 0 0 0 0 0 0 0 0 0 0 0 0 0 0 0 0 0 0 0 0\n",
            "  0 0 0 0 0 0 0 0 0 1 0 0 0 0 0 0 0 0 0 1 0 0 0 0 0 0 0 0 0 0 0 0 0 0 0 0\n",
            "  0 0 0 0 0 0 0 0 0 0 0 0 0 0 0 0 0 0 0 0 0 0 0 0 0 0 0 0 0 0 0 0 0 0 0 0\n",
            "  0 0 0 0 0 0 0 0 0 0 0 0 0 0 0 0 0 0 0 0 0 0 0 0 0 0 0 0 0 0 0 0 0 0 1 0\n",
            "  0 0 0 0 0 0 0 0 0 0 0 1 0 0 0 0 0 0 0 0 0 0 0 0 0 0 0 0 0 0 0 0 0 0 0 0\n",
            "  0 0 0 0 0 0 0 0 0 0 0 0 0 0 0 0 0]]\n"
          ]
        }
      ]
    },
    {
      "cell_type": "code",
      "source": [
        "# TF-IDF\n",
        "vectorizerTf = TfidfVectorizer()\n",
        "\n",
        "trainFeaturesTf = vectorizerTf.fit_transform(trainInputs)\n",
        "testFeaturesTf = vectorizerTf.transform(testInputs)\n",
        "textTf = vectorizerTf.transform(text)\n",
        "\n",
        "print(\"vocab size: \", len(vectorizerTf.vocabulary_), \" words\")\n",
        "print(\"traindata size: \", len(trainInputs), \" reviews\")\n",
        "print(\"trainFeatures shape: \", trainFeaturesTf.shape)\n",
        "\n",
        "print(\"some words of the vocab: \", vectorizerTf.get_feature_names_out()[-20:])\n",
        "print(\"some features: \", trainFeaturesTf.toarray()[:3])\n",
        "\n",
        "print(\"Text: \", textTf.toarray())"
      ],
      "metadata": {
        "colab": {
          "base_uri": "https://localhost:8080/"
        },
        "id": "R8_VfNlruxxE",
        "outputId": "b64f16b3-d73d-411f-e65f-d7665329f35f"
      },
      "execution_count": null,
      "outputs": [
        {
          "output_type": "stream",
          "name": "stdout",
          "text": [
            "vocab size:  341  words\n",
            "traindata size:  80  reviews\n",
            "trainFeatures shape:  (80, 341)\n",
            "some words of the vocab:  ['was' 'wasn' 'water' 'we' 'wear' 'well' 'were' 'wet' 'which' 'whole'\n",
            " 'window' 'windows' 'winter' 'with' 'work' 'working' 'workout' 'would'\n",
            " 'you' 'your']\n",
            "some features:  [[0.         0.         0.         ... 0.         0.13911849 0.        ]\n",
            " [0.         0.         0.         ... 0.         0.         0.        ]\n",
            " [0.         0.         0.         ... 0.         0.         0.        ]]\n",
            "Text:  [[0.         0.         0.         0.         0.         0.\n",
            "  0.         0.         0.         0.         0.         0.\n",
            "  0.         0.         0.         0.         0.         0.\n",
            "  0.24886448 0.         0.         0.         0.         0.\n",
            "  0.         0.         0.         0.         0.         0.\n",
            "  0.         0.         0.         0.         0.47754375 0.\n",
            "  0.         0.         0.         0.         0.         0.\n",
            "  0.         0.         0.         0.43635786 0.         0.\n",
            "  0.         0.         0.         0.         0.         0.\n",
            "  0.         0.         0.         0.         0.         0.\n",
            "  0.         0.         0.         0.         0.         0.\n",
            "  0.         0.         0.         0.         0.         0.\n",
            "  0.         0.         0.         0.         0.         0.\n",
            "  0.         0.         0.         0.         0.         0.\n",
            "  0.         0.         0.         0.         0.         0.\n",
            "  0.         0.         0.         0.         0.         0.\n",
            "  0.         0.         0.         0.         0.         0.\n",
            "  0.         0.         0.         0.         0.         0.\n",
            "  0.         0.         0.         0.         0.         0.\n",
            "  0.         0.         0.         0.         0.         0.\n",
            "  0.         0.         0.         0.         0.         0.\n",
            "  0.         0.         0.         0.         0.         0.\n",
            "  0.         0.         0.         0.         0.         0.\n",
            "  0.         0.         0.         0.         0.         0.\n",
            "  0.         0.         0.         0.         0.         0.\n",
            "  0.         0.         0.         0.         0.         0.\n",
            "  0.         0.         0.         0.         0.         0.\n",
            "  0.         0.         0.         0.         0.         0.\n",
            "  0.         0.         0.         0.         0.         0.\n",
            "  0.         0.         0.         0.         0.         0.\n",
            "  0.         0.         0.         0.         0.         0.\n",
            "  0.         0.         0.         0.407136   0.         0.\n",
            "  0.         0.         0.         0.         0.         0.\n",
            "  0.         0.33672825 0.         0.         0.         0.\n",
            "  0.         0.         0.         0.         0.         0.\n",
            "  0.         0.         0.         0.         0.         0.\n",
            "  0.         0.         0.         0.         0.         0.\n",
            "  0.         0.         0.         0.         0.         0.\n",
            "  0.         0.         0.         0.         0.         0.\n",
            "  0.         0.         0.         0.         0.         0.\n",
            "  0.         0.         0.         0.         0.         0.\n",
            "  0.         0.         0.         0.         0.         0.\n",
            "  0.         0.         0.         0.         0.         0.\n",
            "  0.         0.         0.         0.         0.         0.\n",
            "  0.         0.         0.         0.         0.         0.\n",
            "  0.         0.         0.         0.         0.         0.\n",
            "  0.         0.         0.         0.         0.         0.\n",
            "  0.         0.         0.         0.         0.38446977 0.\n",
            "  0.         0.         0.         0.         0.         0.\n",
            "  0.         0.         0.         0.         0.         0.3043807\n",
            "  0.         0.         0.         0.         0.         0.\n",
            "  0.         0.         0.         0.         0.         0.\n",
            "  0.         0.         0.         0.         0.         0.\n",
            "  0.         0.         0.         0.         0.         0.\n",
            "  0.         0.         0.         0.         0.         0.\n",
            "  0.         0.         0.         0.         0.         0.\n",
            "  0.         0.         0.         0.         0.        ]]\n"
          ]
        }
      ]
    },
    {
      "cell_type": "code",
      "source": [
        "!pip install gensim"
      ],
      "metadata": {
        "colab": {
          "base_uri": "https://localhost:8080/"
        },
        "id": "kY_QSZPVxcC1",
        "outputId": "28869a44-3560-4d85-b783-82cccf112cc6"
      },
      "execution_count": null,
      "outputs": [
        {
          "output_type": "stream",
          "name": "stdout",
          "text": [
            "Requirement already satisfied: gensim in /usr/local/lib/python3.10/dist-packages (4.3.2)\n",
            "Requirement already satisfied: numpy>=1.18.5 in /usr/local/lib/python3.10/dist-packages (from gensim) (1.25.2)\n",
            "Requirement already satisfied: scipy>=1.7.0 in /usr/local/lib/python3.10/dist-packages (from gensim) (1.11.4)\n",
            "Requirement already satisfied: smart-open>=1.8.1 in /usr/local/lib/python3.10/dist-packages (from gensim) (6.4.0)\n"
          ]
        }
      ]
    },
    {
      "cell_type": "code",
      "source": [
        "# Word2Vec\n",
        "word2vecModel300 = api.load('word2vec-google-news-300')\n",
        "\n",
        "print(word2vecModel300.most_similar('support'))\n",
        "print(\"vec for house: \", word2vecModel300[\"house\"])"
      ],
      "metadata": {
        "colab": {
          "base_uri": "https://localhost:8080/"
        },
        "id": "Ex0anTJQxhk4",
        "outputId": "2e166e89-2676-4a3c-d1b3-5f2d5e92b269"
      },
      "execution_count": null,
      "outputs": [
        {
          "output_type": "stream",
          "name": "stdout",
          "text": [
            "[==================================================] 100.0% 1662.8/1662.8MB downloaded\n",
            "[('supporting', 0.6251285076141357), ('suport', 0.6071150302886963), ('suppport', 0.6053199768066406), ('Support', 0.6044272780418396), ('supported', 0.6009396314620972), ('backing', 0.6007589101791382), ('supports', 0.5269277691841125), ('assistance', 0.5207138061523438), ('sup_port', 0.5192490220069885), ('supportive', 0.5110024809837341)]\n",
            "vec for house:  [ 1.57226562e-01 -7.08007812e-02  5.39550781e-02 -1.89208984e-02\n",
            "  9.17968750e-02  2.55126953e-02  7.37304688e-02 -5.68847656e-02\n",
            "  1.79687500e-01  9.27734375e-02  9.03320312e-02 -4.12109375e-01\n",
            " -8.30078125e-02 -1.45507812e-01 -2.37304688e-01 -3.68652344e-02\n",
            "  8.74023438e-02 -2.77099609e-02  1.13677979e-03  8.30078125e-02\n",
            "  3.57421875e-01 -2.61718750e-01  7.47070312e-02 -8.10546875e-02\n",
            " -2.35595703e-02 -1.61132812e-01 -4.78515625e-02  1.85546875e-01\n",
            " -3.97949219e-02 -1.58203125e-01 -4.37011719e-02 -1.11328125e-01\n",
            " -1.05957031e-01  9.86328125e-02 -8.34960938e-02 -1.27929688e-01\n",
            " -1.39648438e-01 -1.86523438e-01 -5.71289062e-02 -1.17675781e-01\n",
            " -1.32812500e-01  1.55639648e-02  1.34765625e-01  8.39843750e-02\n",
            " -9.03320312e-02 -4.12597656e-02 -2.51953125e-01 -2.27539062e-01\n",
            " -6.64062500e-02 -7.66601562e-02  5.15136719e-02  5.90820312e-02\n",
            "  3.49609375e-01 -1.13769531e-01 -2.57568359e-02 -1.98242188e-01\n",
            "  4.44335938e-02  1.09863281e-01  1.04003906e-01 -1.75781250e-01\n",
            "  1.22558594e-01  7.81250000e-02  6.20117188e-02  6.49414062e-02\n",
            " -1.73828125e-01 -1.11694336e-02  1.88476562e-01  3.34472656e-02\n",
            " -4.29687500e-02 -4.71191406e-02  2.91015625e-01  4.19921875e-02\n",
            "  1.59179688e-01  1.22558594e-01 -2.55859375e-01  2.44140625e-01\n",
            "  1.54296875e-01 -3.46679688e-02  1.24023438e-01 -1.32812500e-01\n",
            "  8.44726562e-02  3.71093750e-02 -1.05468750e-01  9.81445312e-02\n",
            " -8.23974609e-03  5.34667969e-02 -1.96838379e-03  9.03320312e-02\n",
            "  1.30859375e-01 -1.57470703e-02 -2.40478516e-02 -3.29589844e-02\n",
            " -5.63964844e-02 -3.12500000e-01 -1.19140625e-01  4.41894531e-02\n",
            " -1.82617188e-01 -2.20703125e-01  8.39843750e-02 -2.15820312e-01\n",
            " -1.60156250e-01 -2.01171875e-01  1.63085938e-01 -4.57763672e-05\n",
            "  4.24804688e-02 -1.37695312e-01 -2.62451172e-02  1.53320312e-01\n",
            " -1.07421875e-01 -1.34765625e-01 -3.73840332e-03 -1.51977539e-02\n",
            " -7.27539062e-02  3.22265625e-02  1.89453125e-01 -8.00781250e-02\n",
            "  1.45507812e-01 -9.66796875e-02 -9.27734375e-02  8.91113281e-03\n",
            " -4.27246094e-02 -9.76562500e-02  3.29589844e-02 -7.95898438e-02\n",
            " -6.25000000e-02  3.39355469e-02  1.05590820e-02 -1.28906250e-01\n",
            "  1.09863281e-01  1.89453125e-01  1.52343750e-01 -1.47460938e-01\n",
            " -3.86047363e-03  1.75781250e-01 -4.58984375e-02 -1.02539062e-01\n",
            "  6.34765625e-02 -9.86328125e-02  1.87500000e-01  3.97949219e-02\n",
            " -2.65625000e-01 -1.24023438e-01 -1.35742188e-01  7.93457031e-03\n",
            "  6.59179688e-02  8.11767578e-03 -3.24707031e-02 -1.03759766e-02\n",
            " -1.90429688e-02 -8.20312500e-02  2.06054688e-01  1.40625000e-01\n",
            "  1.93359375e-01  2.91015625e-01 -9.17968750e-02 -1.40625000e-01\n",
            " -1.75781250e-01 -1.36718750e-01  2.51464844e-02 -5.83496094e-02\n",
            " -1.84570312e-01  3.10546875e-01  7.17773438e-02 -1.01074219e-01\n",
            "  1.08886719e-01 -2.23388672e-02  1.50390625e-01 -7.03125000e-02\n",
            "  1.24023438e-01  2.21679688e-01 -1.97265625e-01 -6.05468750e-02\n",
            " -4.30297852e-03 -1.69921875e-01 -1.45507812e-01 -2.17773438e-01\n",
            "  2.47070312e-01  6.64062500e-02 -8.05664062e-02  3.57421875e-01\n",
            " -8.20312500e-02 -7.87353516e-03  1.08886719e-01 -5.32226562e-02\n",
            "  3.00781250e-01 -2.37304688e-01  1.61132812e-01  1.59179688e-01\n",
            "  1.69921875e-01 -9.52148438e-02  5.20019531e-02 -6.22558594e-02\n",
            " -8.85009766e-03  4.68750000e-02 -2.88085938e-02  1.25000000e-01\n",
            "  3.49121094e-02  4.61425781e-02  1.66015625e-02 -9.57031250e-02\n",
            " -1.48437500e-01 -1.64794922e-02 -2.22656250e-01 -2.51953125e-01\n",
            " -3.58886719e-02 -2.52685547e-02  8.39233398e-05  6.98242188e-02\n",
            "  2.53906250e-01 -3.29589844e-02  6.59179688e-02  6.28662109e-03\n",
            " -7.86132812e-02 -3.01513672e-02 -9.47265625e-02  1.25000000e-01\n",
            " -1.62109375e-01  2.53906250e-01 -3.30078125e-01  6.44531250e-02\n",
            " -9.09423828e-03  7.12890625e-02  3.99780273e-03 -4.41894531e-02\n",
            " -1.42822266e-02 -9.52148438e-03  1.17675781e-01  3.49609375e-01\n",
            " -2.90527344e-02  1.86767578e-02  3.46679688e-02  1.89208984e-02\n",
            " -1.26953125e-01  2.68554688e-02 -1.06933594e-01  1.20117188e-01\n",
            " -2.69775391e-02 -5.07812500e-02 -1.76757812e-01  3.95507812e-02\n",
            "  1.35742188e-01 -9.61914062e-02 -1.98242188e-01 -1.86767578e-02\n",
            " -2.47802734e-02 -5.32226562e-02  1.54296875e-01  5.95703125e-02\n",
            "  6.39648438e-02 -6.17675781e-02  3.36914062e-02  1.75781250e-01\n",
            "  6.59179688e-02  2.22656250e-01 -1.28906250e-01  4.61425781e-02\n",
            " -2.57812500e-01  6.78710938e-02  6.29882812e-02 -1.15722656e-01\n",
            " -2.13867188e-01 -2.53906250e-01  2.73437500e-02 -4.68750000e-02\n",
            "  1.38671875e-01  2.59765625e-01 -2.07031250e-01 -9.64355469e-03\n",
            " -5.22460938e-02 -7.20214844e-03  8.49609375e-02 -2.49023438e-02\n",
            "  1.94335938e-01 -7.37304688e-02  1.22070312e-01 -3.49121094e-02\n",
            "  1.41601562e-01 -1.38671875e-01  7.61718750e-02 -1.93359375e-01\n",
            "  1.64062500e-01 -2.78320312e-02 -1.45263672e-02  1.44531250e-01\n",
            "  1.75781250e-01 -1.70898438e-02  1.26953125e-01  3.39355469e-02\n",
            " -2.80761719e-02  1.82617188e-01 -2.94921875e-01  3.78417969e-02\n",
            " -1.63085938e-01  1.73828125e-01 -1.01074219e-01 -1.49414062e-01\n",
            " -4.17480469e-02  9.82666016e-03 -4.94384766e-03 -3.29589844e-02]\n"
          ]
        }
      ]
    },
    {
      "cell_type": "code",
      "source": [
        "def featureComputation(model, data):\n",
        "  features = []\n",
        "  phrases = [phrase.split() for phrase in data]\n",
        "  for phrase in phrases:\n",
        "    vectors = [model[word] for word in phrase if (len(word) > 2) and (word in model.index_to_key)]\n",
        "    if len(vectors) == 0:\n",
        "      result = [0.0] * model.vector_size\n",
        "    else:\n",
        "      result = np.sum(vectors, axis=0) / len(vectors)\n",
        "    features.append(result)\n",
        "  return features\n",
        "\n",
        "trainFeaturesW2V = featureComputation(word2vecModel300, trainInputs)\n",
        "testFeaturesW2V = featureComputation(word2vecModel300, testInputs)\n",
        "textW2V = featureComputation(word2vecModel300, text)\n",
        "\n",
        "print(\"vocab size: \", len(word2vecModel300), \" words\")\n",
        "print(\"traindata size: \", len(trainInputs), \" reviews\")\n",
        "\n",
        "print(\"some words of the vocab: \", list(word2vecModel300.key_to_index.keys())[-20:])\n",
        "print(\"some features: \", trainFeaturesW2V[:3])\n",
        "\n",
        "print(\"Text: \", textW2V)"
      ],
      "metadata": {
        "id": "dUSckr5P7eZE"
      },
      "execution_count": null,
      "outputs": []
    },
    {
      "cell_type": "code",
      "source": [
        "# GloVe\n",
        "gloveModel = api.load(\"glove-wiki-gigaword-100\")\n",
        "\n",
        "print(gloveModel.most_similar('support'))\n",
        "print(\"vec for house: \", gloveModel[\"house\"])"
      ],
      "metadata": {
        "id": "V7O7k4JDXefl",
        "colab": {
          "base_uri": "https://localhost:8080/"
        },
        "outputId": "a18eb33c-5d1b-43f4-9273-193315a4f7d8"
      },
      "execution_count": null,
      "outputs": [
        {
          "output_type": "stream",
          "name": "stdout",
          "text": [
            "[==================================================] 100.0% 128.1/128.1MB downloaded\n",
            "\n",
            "[('supported', 0.827902615070343), ('backing', 0.7730779647827148), ('supporting', 0.7704546451568604), ('efforts', 0.7334232330322266), ('supports', 0.7252587676048279), ('leadership', 0.7252035737037659), ('effort', 0.7188873887062073), ('for', 0.716742753982544), ('government', 0.7160677909851074), ('help', 0.7136315107345581)]\n",
            "vec for house:  [-0.18867   -0.040943   0.58878    0.11062    0.14236    0.4885\n",
            " -0.31832    0.53819   -0.018549   0.029687   0.30299   -0.16522\n",
            " -0.18896    0.5148    -0.79405    0.26409    0.027747   0.041163\n",
            " -0.49378   -0.14263    0.29017   -0.25369    0.70559   -1.0501\n",
            " -0.49344   -0.37148   -0.85796   -0.55158   -0.60251   -0.0099676\n",
            "  0.8725     0.12149    0.551      0.49924   -0.3088     1.1067\n",
            " -0.15494   -0.29923    0.91149    0.19859   -0.73946   -1.0182\n",
            "  0.37208   -0.10043    0.13537   -0.52687   -0.60437   -0.15906\n",
            "  0.49283   -0.61386    0.046815  -0.88806    0.60229    0.72199\n",
            " -0.4316    -3.0706    -0.11233   -0.45713    0.95737    0.59174\n",
            " -0.17124    0.65746    0.44741    0.6101     1.0216    -0.2458\n",
            "  0.90191    0.78319    0.28272   -0.4539     0.16309   -0.0078932\n",
            " -0.27714   -0.87249   -0.19716   -0.076285  -0.28422   -0.089584\n",
            " -1.3132     0.16372   -0.25441   -0.076529   0.44458   -0.17525\n",
            " -0.74084   -0.25415    0.52886   -0.46958    0.16487   -0.57443\n",
            "  0.47239   -0.52798    0.65184    0.803     -0.93156   -0.055967\n",
            "  0.26932    0.16221    1.1238    -0.4168   ]\n",
            "[('supported', 0.827902615070343), ('backing', 0.7730779647827148), ('supporting', 0.7704546451568604), ('efforts', 0.7334232330322266), ('supports', 0.7252587676048279), ('leadership', 0.7252035737037659), ('effort', 0.7188873887062073), ('for', 0.716742753982544), ('government', 0.7160677909851074), ('help', 0.7136315107345581)]\n",
            "vec for house:  [-0.18867   -0.040943   0.58878    0.11062    0.14236    0.4885\n",
            " -0.31832    0.53819   -0.018549   0.029687   0.30299   -0.16522\n",
            " -0.18896    0.5148    -0.79405    0.26409    0.027747   0.041163\n",
            " -0.49378   -0.14263    0.29017   -0.25369    0.70559   -1.0501\n",
            " -0.49344   -0.37148   -0.85796   -0.55158   -0.60251   -0.0099676\n",
            "  0.8725     0.12149    0.551      0.49924   -0.3088     1.1067\n",
            " -0.15494   -0.29923    0.91149    0.19859   -0.73946   -1.0182\n",
            "  0.37208   -0.10043    0.13537   -0.52687   -0.60437   -0.15906\n",
            "  0.49283   -0.61386    0.046815  -0.88806    0.60229    0.72199\n",
            " -0.4316    -3.0706    -0.11233   -0.45713    0.95737    0.59174\n",
            " -0.17124    0.65746    0.44741    0.6101     1.0216    -0.2458\n",
            "  0.90191    0.78319    0.28272   -0.4539     0.16309   -0.0078932\n",
            " -0.27714   -0.87249   -0.19716   -0.076285  -0.28422   -0.089584\n",
            " -1.3132     0.16372   -0.25441   -0.076529   0.44458   -0.17525\n",
            " -0.74084   -0.25415    0.52886   -0.46958    0.16487   -0.57443\n",
            "  0.47239   -0.52798    0.65184    0.803     -0.93156   -0.055967\n",
            "  0.26932    0.16221    1.1238    -0.4168   ]\n"
          ]
        }
      ]
    },
    {
      "cell_type": "code",
      "source": [
        "trainFeaturesGlo = featureComputation(gloveModel, trainInputs)\n",
        "testFeaturesGlo = featureComputation(gloveModel, testInputs)\n",
        "textGlo = featureComputation(gloveModel, text)\n",
        "\n",
        "print(\"vocab size: \", len(gloveModel), \" words\")\n",
        "print(\"traindata size: \", len(trainInputs), \" reviews\")\n",
        "\n",
        "print(\"some words of the vocab: \", list(gloveModel.key_to_index.keys())[-20:])\n",
        "print(\"some features: \", trainFeaturesGlo[:3])\n",
        "\n",
        "print(\"Text: \", textGlo)"
      ],
      "metadata": {
        "id": "6Uaos9H2UPif",
        "colab": {
          "base_uri": "https://localhost:8080/"
        },
        "outputId": "3c6fff6e-0fd1-43c1-d8c5-f907d2fffc3c"
      },
      "execution_count": null,
      "outputs": [
        {
          "metadata": {
            "tags": null
          },
          "name": "stdout",
          "output_type": "stream",
          "text": [
            "vocab size:  400000  words\n",
            "traindata size:  80  reviews\n",
            "some words of the vocab:  ['whirlow', 'wanz', 't22', 'slann', 'kunimoto', 'altares', 'cipolletti', 'sherwoods', 'sullana', '29km', 'sigarms', 'katuna', 'aqm', '1.3775', 'corythosaurus', 'chanty', 'kronik', 'rolonda', 'zsombor', 'sandberger']\n",
            "some features:  [array([-6.05860539e-02,  1.52939871e-01,  3.57492447e-01, -4.00222868e-01,\n",
            "       -3.30435261e-02,  2.87942261e-01, -2.32646376e-01,  2.10223973e-01,\n",
            "       -1.56397615e-02, -6.15018159e-02,  3.48510861e-01,  6.93354756e-02,\n",
            "        3.31936419e-01,  6.85273111e-02,  1.19520411e-01, -2.28968620e-01,\n",
            "        2.85195233e-03,  1.82239175e-01, -4.21790540e-01,  1.26181602e-01,\n",
            "        3.25645834e-01, -6.40824288e-02,  3.43005210e-01, -3.22815701e-02,\n",
            "        3.45810533e-01, -1.65203691e-01, -2.23126918e-01, -5.29370070e-01,\n",
            "       -3.31840068e-02, -3.09662282e-01,  2.01815858e-01,  3.93678665e-01,\n",
            "       -3.41023356e-02,  1.82053849e-01,  9.17233303e-02,  3.49767089e-01,\n",
            "        2.70238575e-02,  1.31373093e-01,  1.05609983e-01, -1.25726104e-01,\n",
            "       -4.35333014e-01, -3.25857192e-01,  1.44290715e-01, -3.14821661e-01,\n",
            "       -2.43328605e-02,  1.11692965e-01,  2.80670851e-01, -1.99780285e-01,\n",
            "       -9.08406749e-02, -8.04835737e-01,  1.14390664e-02, -6.73217233e-04,\n",
            "        3.18200397e-03,  1.15543187e+00, -3.31065595e-01, -2.33613563e+00,\n",
            "       -1.22444764e-01, -1.01314344e-01,  1.66944325e+00,  7.00545967e-01,\n",
            "       -2.12544531e-01,  8.24380994e-01, -3.48954380e-01,  3.38557184e-01,\n",
            "        6.70866966e-01, -3.22423875e-02,  5.13131201e-01,  4.08221573e-01,\n",
            "       -9.22075659e-02, -2.46314749e-01, -1.50216073e-01, -2.90003002e-01,\n",
            "        9.27830487e-02, -4.96964544e-01,  1.94583297e-01,  1.20798521e-01,\n",
            "       -1.27695188e-01,  9.38884318e-02, -6.08262062e-01, -2.20164768e-02,\n",
            "        5.49172401e-01, -2.64965836e-02, -5.39308548e-01,  1.61066860e-01,\n",
            "       -1.40818691e+00, -2.70740002e-01,  1.14282310e-01,  2.13076314e-03,\n",
            "        2.94037280e-03, -1.90440372e-01, -7.23613352e-02, -2.29539275e-01,\n",
            "       -1.41098812e-01,  1.39139146e-01, -6.71986282e-01, -1.55896425e-01,\n",
            "       -3.02433282e-01, -2.14556038e-01,  5.82956970e-01,  2.28395894e-01],\n",
            "      dtype=float32), array([-4.38839979e-02,  2.04456672e-01,  1.15317322e-01, -5.07886708e-01,\n",
            "        2.17736676e-01,  4.28013325e-01, -1.29803345e-01, -2.61833277e-02,\n",
            "       -5.34600019e-02,  5.94086647e-01,  1.21626675e-01, -5.85133374e-01,\n",
            "        4.12186652e-01,  3.13950002e-01,  2.54496664e-01, -2.83586651e-01,\n",
            "       -4.71566729e-02, -3.13684672e-01, -3.46783310e-01,  1.72937334e-01,\n",
            "        2.24930003e-01, -5.99119999e-02,  5.00486672e-01,  1.64639995e-01,\n",
            "        3.39086682e-01,  5.46619952e-01,  2.19233334e-02, -7.63233364e-01,\n",
            "        2.76999980e-01, -2.25133345e-01, -2.19600007e-01,  5.15273333e-01,\n",
            "       -2.64569998e-01,  4.37610030e-01, -1.96999800e-03,  1.30190000e-01,\n",
            "        2.53873318e-01,  3.71559978e-01, -2.99409986e-01, -1.17989659e-01,\n",
            "       -1.11323319e-01, -2.08659992e-01, -7.65940025e-02, -2.63733357e-01,\n",
            "       -4.28343326e-01,  3.24366689e-02,  3.56566720e-02, -1.95889995e-01,\n",
            "        5.15199959e-01, -5.42873323e-01, -4.65496659e-01,  1.88793346e-01,\n",
            "       -2.38976672e-01,  8.23626697e-01, -1.17155999e-01, -2.29599977e+00,\n",
            "       -1.06978662e-01, -2.22366676e-01,  1.18394339e+00,  1.02183342e+00,\n",
            "        7.14633390e-02,  9.29013312e-01, -4.98070009e-02,  4.85713363e-01,\n",
            "        7.28213310e-01, -2.55211681e-01,  7.49453306e-01,  2.08243325e-01,\n",
            "        6.36046708e-01, -4.90200013e-01, -2.54600018e-01, -5.19900136e-02,\n",
            "       -2.07138017e-01, -1.77279994e-01,  2.02889994e-01, -4.15800028e-02,\n",
            "       -1.76306322e-01,  5.08773327e-01, -2.56150007e-01, -3.58536690e-01,\n",
            "        7.24993706e-01,  2.79510021e-01, -2.09333492e-03,  5.37829995e-01,\n",
            "       -1.34829998e+00, -1.47435322e-01, -3.90943319e-01,  5.58553338e-02,\n",
            "       -3.84133339e-01, -2.95395344e-01,  6.69046640e-02, -2.93373317e-01,\n",
            "       -3.79056662e-01,  2.74684340e-01, -7.69330025e-01,  4.07123327e-01,\n",
            "       -4.06036645e-01, -6.53243303e-01,  8.61440003e-01,  1.31522462e-01],\n",
            "      dtype=float32), array([-0.65571   ,  0.1204865 , -0.40478   , -0.61946   ,  0.3225    ,\n",
            "       -0.0881905 ,  0.24255499,  0.10349101,  0.1652435 ,  0.214685  ,\n",
            "        0.361875  , -0.390035  ,  0.325895  ,  0.35483   ,  0.26973   ,\n",
            "       -0.49178752,  0.52061   , -0.123005  ,  0.278095  , -0.78639   ,\n",
            "       -0.07558545,  0.03745999,  0.01478501,  0.064015  ,  0.54307497,\n",
            "       -0.41416   , -0.040615  , -0.33306998, -0.11600502,  0.403     ,\n",
            "        0.287455  ,  0.66402495, -0.560455  , -0.34401   , -0.38264   ,\n",
            "        0.299085  ,  0.0394165 , -0.225805  , -0.420725  , -0.385635  ,\n",
            "       -0.081045  , -0.61211   ,  0.09554499, -0.07654   , -0.10394999,\n",
            "       -0.00489001, -0.2851335 , -0.086511  , -0.333745  , -0.51741505,\n",
            "        0.162375  ,  0.16427101,  0.13114999,  0.8212    , -0.123495  ,\n",
            "       -1.8704    , -0.672685  ,  0.423535  ,  1.237445  ,  0.33519   ,\n",
            "        0.0517884 ,  0.263155  , -0.460997  ,  0.369353  ,  0.751135  ,\n",
            "       -0.5217    ,  0.47053   ,  0.49948   , -0.040915  , -0.09823   ,\n",
            "       -0.033625  ,  0.626685  ,  0.2150485 , -0.15503004,  0.19837299,\n",
            "        0.279625  , -0.024215  ,  0.689365  , -0.5631755 ,  0.12366001,\n",
            "        0.23562   , -0.34881   , -0.388065  ,  0.092076  , -0.77433   ,\n",
            "       -0.38989002,  0.241495  , -0.34570003, -0.04845501,  0.00234999,\n",
            "        0.0282    , -0.348495  ,  0.08024001,  0.44805217, -0.40307   ,\n",
            "       -0.12625   , -0.137298  , -0.12216499,  0.32881302, -0.233735  ],\n",
            "      dtype=float32)]\n",
            "Text:  [array([-1.45879835e-01,  1.92601725e-01,  1.53414682e-01, -1.02700023e-02,\n",
            "        1.96149454e-01,  8.70273856e-04, -3.70519370e-01,  2.47808173e-01,\n",
            "       -1.13152988e-01,  2.87699372e-01, -1.31256253e-01, -1.92157120e-01,\n",
            "        1.78398743e-01, -3.21273834e-01,  3.89680006e-02, -2.90945977e-01,\n",
            "        3.30348164e-01,  1.44338878e-02, -2.17810005e-01,  1.74063087e-01,\n",
            "        4.21119109e-02, -1.42359678e-02,  1.11335404e-01, -5.21753542e-02,\n",
            "       -2.69999877e-02,  1.58637255e-01, -1.79410160e-01, -2.92462736e-01,\n",
            "       -1.69151083e-01, -9.15173590e-02, -3.47749084e-01,  5.15427709e-01,\n",
            "       -4.28609997e-02,  1.40730456e-01,  1.88272800e-02,  1.34393811e-01,\n",
            "       -4.83948216e-02,  1.43818915e-01, -1.79874063e-01,  6.59400150e-02,\n",
            "       -2.90111661e-01, -2.26410523e-01,  1.96154267e-01, -1.29158184e-01,\n",
            "       -1.86239630e-01,  9.58740935e-02,  2.09859997e-01, -1.58570468e-01,\n",
            "       -2.47440815e-01, -5.02275407e-01, -2.05791136e-03, -6.85705319e-02,\n",
            "       -2.00057030e-01,  8.63362730e-01, -1.27122372e-01, -1.62420738e+00,\n",
            "        3.01962107e-01, -8.24692771e-02,  1.19830549e+00,  1.34649903e-01,\n",
            "        3.15227290e-03,  2.77816325e-01,  7.10279197e-02,  1.68526158e-01,\n",
            "        6.52973652e-01,  7.31581748e-02,  3.16533625e-01,  9.71199796e-02,\n",
            "        4.47314084e-01, -2.98836470e-01,  1.35489091e-01, -2.81769544e-01,\n",
            "       -4.54676300e-02, -1.77480832e-01,  1.17909551e-01,  3.93223949e-03,\n",
            "        9.26009193e-02, -3.43701877e-02, -5.66816151e-01, -8.71318281e-02,\n",
            "        3.03009093e-01,  1.38632715e-01, -2.23515272e-01,  3.33246619e-01,\n",
            "       -9.16063547e-01, -7.27721825e-02, -2.20223382e-01, -9.04778987e-02,\n",
            "       -3.14420551e-01, -2.67263114e-01, -1.00471355e-01, -3.69491369e-01,\n",
            "       -9.53059122e-02, -6.18935861e-02, -3.36270928e-01, -1.08359456e-01,\n",
            "       -2.92306274e-01, -3.49600554e-01,  7.25274563e-01,  2.09862724e-01],\n",
            "      dtype=float32)]\n"
          ]
        }
      ]
    },
    {
      "cell_type": "code",
      "source": [
        "# Universal Sentence Encoder(USE)\n",
        "useModel = hub.load(\"https://tfhub.dev/google/universal-sentence-encoder/4\")"
      ],
      "metadata": {
        "id": "QVXaunJHU5-4"
      },
      "execution_count": null,
      "outputs": []
    },
    {
      "cell_type": "code",
      "source": [
        "trainFeaturesUse = useModel(trainInputs).numpy()\n",
        "testFeaturesUse = useModel(testInputs).numpy()\n",
        "textUse = useModel(text).numpy()\n",
        "\n",
        "print(\"Train data size: \", len(trainInputs), \" reviews\")\n",
        "print(\"Train features shape: \", trainFeaturesUse.shape)\n",
        "\n",
        "print(\"Some features: \", trainFeaturesUse[:3])\n",
        "\n",
        "print(\"Text: \", textUse)"
      ],
      "metadata": {
        "id": "r_FoGRqaoQuJ",
        "colab": {
          "base_uri": "https://localhost:8080/"
        },
        "outputId": "0d792c37-52a4-4286-8a6b-39069b9f4e90"
      },
      "execution_count": null,
      "outputs": [
        {
          "output_type": "stream",
          "name": "stdout",
          "text": [
            "Train data size:  80  reviews\n",
            "Train features shape:  (80, 512)\n",
            "Some features:  [[-0.07802223  0.01111314  0.02038524 ... -0.01072565  0.0054208\n",
            "   0.03554334]\n",
            " [-0.07269284  0.01501559 -0.01219709 ... -0.00901482  0.04341419\n",
            "  -0.02304511]\n",
            " [-0.04232545 -0.07167039  0.03119689 ... -0.00861861 -0.01986461\n",
            "   0.02570099]]\n",
            "Text:  [[ 0.01264013 -0.04712744  0.00713417 -0.03500833  0.02971247  0.04125209\n",
            "  -0.03619554 -0.01758762  0.06620001  0.01047378 -0.06192816 -0.04430528\n",
            "  -0.00240475 -0.01875593  0.02941764 -0.07495249  0.04633277  0.01827266\n",
            "  -0.01027541  0.00312812  0.0005725   0.0088451   0.06321581  0.01250358\n",
            "  -0.02526364  0.04501481  0.0521196   0.01063667 -0.02132087  0.04072352\n",
            "  -0.03716057  0.01957345  0.02243435  0.04838386  0.04253612  0.04263712\n",
            "   0.01085611 -0.01946219 -0.04982019  0.00496761  0.04151275 -0.0065482\n",
            "  -0.06618687 -0.01742054 -0.08129115  0.0098864  -0.02398817  0.00343107\n",
            "  -0.07762092  0.02545502 -0.03574106 -0.01247752  0.04178774  0.06207051\n",
            "   0.02062719 -0.04113654 -0.00080002 -0.02142895  0.01607943 -0.02827712\n",
            "  -0.02207242  0.05114239  0.06775446  0.0361411   0.01463164  0.05517655\n",
            "  -0.06174035  0.07190107 -0.06028195  0.06137103 -0.07416368  0.05750011\n",
            "  -0.05244004 -0.01736025  0.02016633  0.07417702  0.04877495  0.04498529\n",
            "   0.01388394  0.05916227  0.08010225  0.0264214   0.05240144 -0.03424877\n",
            "  -0.01714233 -0.02255228  0.01940446  0.0351296   0.03055623  0.05804794\n",
            "   0.02589034  0.030668   -0.04348496 -0.00342863  0.03600635  0.01811366\n",
            "  -0.00351722  0.00677244  0.07221851 -0.05419503  0.01352952 -0.05734416\n",
            "   0.021382    0.07796476 -0.04224848  0.06958508  0.0397488  -0.00440596\n",
            "   0.02155806 -0.01787232 -0.02810577 -0.02585679  0.00710363  0.05247754\n",
            "  -0.00746698 -0.00186916  0.06420375 -0.05890676  0.01301535 -0.01381996\n",
            "   0.0581123  -0.04484389 -0.07660799  0.0739659   0.00516009 -0.02016203\n",
            "   0.04065414  0.00789018  0.03698307 -0.02068725  0.02634357  0.05365074\n",
            "  -0.03036944  0.04318074 -0.04621823  0.01302016 -0.00384087 -0.04765843\n",
            "  -0.02220485  0.06938022  0.00190606  0.06070359 -0.06656523 -0.02815036\n",
            "   0.04425368  0.03367125 -0.06238646 -0.03260786  0.04790839 -0.03294019\n",
            "  -0.05805847 -0.02794235 -0.03739064 -0.06915505  0.04851367  0.02161749\n",
            "  -0.05612481  0.06408094  0.04776745 -0.01048222  0.03877546 -0.05083561\n",
            "  -0.00280699 -0.04058876 -0.02498988  0.07007453  0.07286511  0.01947852\n",
            "   0.01017716 -0.00278316 -0.06286436  0.0047174  -0.0410137  -0.05534248\n",
            "   0.0248078   0.04330105  0.00460603  0.07712042 -0.05763547  0.01529791\n",
            "   0.02047685 -0.05230843 -0.04995674 -0.04968337  0.073721   -0.0071156\n",
            "  -0.05512833 -0.0678262   0.0444169   0.03850159 -0.03161466 -0.04476841\n",
            "  -0.03490399  0.01741558  0.07365159  0.0143361  -0.06139068 -0.06168373\n",
            "  -0.0235041  -0.03251015  0.02591018 -0.07940777 -0.00088004  0.07969771\n",
            "  -0.07011594 -0.01456147 -0.05167804 -0.02422225  0.03872342  0.0729084\n",
            "  -0.03486762  0.04976026  0.06734797  0.01634234 -0.03054069 -0.001889\n",
            "  -0.04394001 -0.04159865  0.04011867 -0.0201051   0.04786209 -0.0261394\n",
            "  -0.02299575 -0.01839876  0.03461168  0.04360685 -0.06964733  0.04034544\n",
            "  -0.02713707  0.01740822  0.00329499  0.04678152 -0.03302564 -0.07294521\n",
            "  -0.03787556  0.04096089 -0.00663855 -0.02389571 -0.03305561  0.06085519\n",
            "  -0.05383155  0.07209704 -0.0457804   0.01107895 -0.02451288  0.02522187\n",
            "  -0.04753191  0.03457493 -0.04683466  0.04428805  0.01874925  0.0096215\n",
            "  -0.06298864 -0.06013714 -0.02540298  0.03553417 -0.03272208  0.04165711\n",
            "   0.03868167 -0.06906597 -0.02901343  0.04374235 -0.00805663 -0.0537996\n",
            "  -0.00200003 -0.0560709  -0.0797725  -0.01524992  0.05618079 -0.05014231\n",
            "  -0.01142445 -0.04232425  0.01653415  0.0136209   0.06882915  0.08129828\n",
            "   0.070645    0.02082348  0.06269849  0.01043059  0.06101019 -0.01103271\n",
            "   0.05643964  0.06975509 -0.07984483 -0.03604213 -0.05615864  0.06398153\n",
            "   0.00359785 -0.0393846   0.04786763  0.07266714  0.08108304 -0.04934776\n",
            "   0.0654349  -0.00378989  0.04947215 -0.01867289 -0.06943978  0.00294695\n",
            "  -0.05873672 -0.05405334  0.01143581  0.05033338  0.01729328 -0.04898249\n",
            "  -0.03576989 -0.05077995  0.06922571 -0.00296546  0.07208741  0.03001804\n",
            "  -0.01156968  0.05034597 -0.0377924  -0.00446523  0.03871856 -0.05970544\n",
            "  -0.03868742 -0.02558534  0.07319564  0.03490172  0.01108918 -0.02482659\n",
            "  -0.00732338  0.00879412  0.02512386 -0.06640295  0.02306653 -0.07111784\n",
            "   0.04878015 -0.05412121  0.0644899   0.05829462  0.00485021 -0.07517903\n",
            "  -0.08127352  0.01398455 -0.01087686  0.00491396  0.00032642 -0.03786841\n",
            "  -0.015799   -0.01706641 -0.03694632 -0.05571079  0.03594894  0.05964185\n",
            "   0.0252764  -0.05601868  0.06627632  0.05845679  0.03998588  0.06273128\n",
            "  -0.05402965  0.01856418 -0.07728111 -0.04009131  0.03571667 -0.03963588\n",
            "  -0.01908616  0.07182691  0.03891179  0.02514367 -0.00447712  0.07140168\n",
            "  -0.02080681 -0.03222646  0.02240951  0.04497413 -0.03426976  0.00845762\n",
            "  -0.02170716 -0.06345544 -0.04684944 -0.0537193   0.02404285  0.00063484\n",
            "   0.00615849 -0.07634497  0.08108306 -0.05303335 -0.0361841   0.02080906\n",
            "   0.01977773 -0.05278689  0.02079959  0.00257993  0.05204537 -0.02730071\n",
            "   0.04625904 -0.01099471  0.05783965 -0.0155673  -0.05267058  0.02756668\n",
            "  -0.04702419 -0.01775116  0.05863616  0.04098032  0.00419512 -0.01219448\n",
            "   0.07301733  0.04801141 -0.02816759 -0.04555537 -0.05094923 -0.04031182\n",
            "  -0.05906272 -0.03512812  0.04037638 -0.02694908  0.05467523 -0.05276214\n",
            "   0.01316451  0.02010681  0.02030727  0.0574161   0.07349549  0.0761251\n",
            "  -0.03056502 -0.03878127 -0.02421504 -0.08121891 -0.05276261  0.00571286\n",
            "   0.03270727 -0.01618217 -0.06496334 -0.06489957  0.00449874  0.01208195\n",
            "   0.04717746 -0.05390154 -0.04586111 -0.03866662 -0.05470641 -0.03223236\n",
            "  -0.07060532  0.04375237  0.01445367  0.01752932  0.01370224 -0.01539907\n",
            "   0.00089963  0.05548779 -0.00868967 -0.07560482 -0.0462253  -0.07310704\n",
            "   0.0773017   0.0664281  -0.05393096  0.04942674  0.05751179  0.03038188\n",
            "  -0.07129285 -0.06652341  0.05738295 -0.04430325  0.03398895  0.03139736\n",
            "  -0.00973344 -0.04112008 -0.07049924 -0.00883608 -0.05539912  0.00378668\n",
            "   0.07392949  0.00958457 -0.00981104  0.0382472  -0.02594445 -0.0374948\n",
            "   0.01539621  0.06202263  0.01845372 -0.03018025  0.04491666 -0.08002571\n",
            "   0.02069094  0.01190933 -0.01211306 -0.06999247  0.02090497 -0.0540963\n",
            "  -0.02192277  0.00190782  0.05436628  0.07583157  0.0118586  -0.0448317\n",
            "   0.00969926 -0.04846586 -0.01427987 -0.06112503  0.07015006 -0.0241147\n",
            "   0.04905681 -0.04847097 -0.00614489  0.05002742  0.017613    0.03137252\n",
            "   0.00848844 -0.04522472 -0.07590417 -0.07915531 -0.00317869  0.06485651\n",
            "  -0.007367    0.02358821]]\n",
            "Train data size:  80  reviews\n",
            "Train features shape:  (80, 512)\n",
            "Some features:  [[-0.07802223  0.01111314  0.02038524 ... -0.01072565  0.0054208\n",
            "   0.03554334]\n",
            " [-0.07269284  0.01501559 -0.01219709 ... -0.00901482  0.04341419\n",
            "  -0.02304511]\n",
            " [-0.04232545 -0.07167039  0.03119689 ... -0.00861861 -0.01986461\n",
            "   0.02570099]]\n",
            "Text:  [[ 0.01264013 -0.04712744  0.00713417 -0.03500833  0.02971247  0.04125209\n",
            "  -0.03619554 -0.01758762  0.06620001  0.01047378 -0.06192816 -0.04430528\n",
            "  -0.00240475 -0.01875593  0.02941764 -0.07495249  0.04633277  0.01827266\n",
            "  -0.01027541  0.00312812  0.0005725   0.0088451   0.06321581  0.01250358\n",
            "  -0.02526364  0.04501481  0.0521196   0.01063667 -0.02132087  0.04072352\n",
            "  -0.03716057  0.01957345  0.02243435  0.04838386  0.04253612  0.04263712\n",
            "   0.01085611 -0.01946219 -0.04982019  0.00496761  0.04151275 -0.0065482\n",
            "  -0.06618687 -0.01742054 -0.08129115  0.0098864  -0.02398817  0.00343107\n",
            "  -0.07762092  0.02545502 -0.03574106 -0.01247752  0.04178774  0.06207051\n",
            "   0.02062719 -0.04113654 -0.00080002 -0.02142895  0.01607943 -0.02827712\n",
            "  -0.02207242  0.05114239  0.06775446  0.0361411   0.01463164  0.05517655\n",
            "  -0.06174035  0.07190107 -0.06028195  0.06137103 -0.07416368  0.05750011\n",
            "  -0.05244004 -0.01736025  0.02016633  0.07417702  0.04877495  0.04498529\n",
            "   0.01388394  0.05916227  0.08010225  0.0264214   0.05240144 -0.03424877\n",
            "  -0.01714233 -0.02255228  0.01940446  0.0351296   0.03055623  0.05804794\n",
            "   0.02589034  0.030668   -0.04348496 -0.00342863  0.03600635  0.01811366\n",
            "  -0.00351722  0.00677244  0.07221851 -0.05419503  0.01352952 -0.05734416\n",
            "   0.021382    0.07796476 -0.04224848  0.06958508  0.0397488  -0.00440596\n",
            "   0.02155806 -0.01787232 -0.02810577 -0.02585679  0.00710363  0.05247754\n",
            "  -0.00746698 -0.00186916  0.06420375 -0.05890676  0.01301535 -0.01381996\n",
            "   0.0581123  -0.04484389 -0.07660799  0.0739659   0.00516009 -0.02016203\n",
            "   0.04065414  0.00789018  0.03698307 -0.02068725  0.02634357  0.05365074\n",
            "  -0.03036944  0.04318074 -0.04621823  0.01302016 -0.00384087 -0.04765843\n",
            "  -0.02220485  0.06938022  0.00190606  0.06070359 -0.06656523 -0.02815036\n",
            "   0.04425368  0.03367125 -0.06238646 -0.03260786  0.04790839 -0.03294019\n",
            "  -0.05805847 -0.02794235 -0.03739064 -0.06915505  0.04851367  0.02161749\n",
            "  -0.05612481  0.06408094  0.04776745 -0.01048222  0.03877546 -0.05083561\n",
            "  -0.00280699 -0.04058876 -0.02498988  0.07007453  0.07286511  0.01947852\n",
            "   0.01017716 -0.00278316 -0.06286436  0.0047174  -0.0410137  -0.05534248\n",
            "   0.0248078   0.04330105  0.00460603  0.07712042 -0.05763547  0.01529791\n",
            "   0.02047685 -0.05230843 -0.04995674 -0.04968337  0.073721   -0.0071156\n",
            "  -0.05512833 -0.0678262   0.0444169   0.03850159 -0.03161466 -0.04476841\n",
            "  -0.03490399  0.01741558  0.07365159  0.0143361  -0.06139068 -0.06168373\n",
            "  -0.0235041  -0.03251015  0.02591018 -0.07940777 -0.00088004  0.07969771\n",
            "  -0.07011594 -0.01456147 -0.05167804 -0.02422225  0.03872342  0.0729084\n",
            "  -0.03486762  0.04976026  0.06734797  0.01634234 -0.03054069 -0.001889\n",
            "  -0.04394001 -0.04159865  0.04011867 -0.0201051   0.04786209 -0.0261394\n",
            "  -0.02299575 -0.01839876  0.03461168  0.04360685 -0.06964733  0.04034544\n",
            "  -0.02713707  0.01740822  0.00329499  0.04678152 -0.03302564 -0.07294521\n",
            "  -0.03787556  0.04096089 -0.00663855 -0.02389571 -0.03305561  0.06085519\n",
            "  -0.05383155  0.07209704 -0.0457804   0.01107895 -0.02451288  0.02522187\n",
            "  -0.04753191  0.03457493 -0.04683466  0.04428805  0.01874925  0.0096215\n",
            "  -0.06298864 -0.06013714 -0.02540298  0.03553417 -0.03272208  0.04165711\n",
            "   0.03868167 -0.06906597 -0.02901343  0.04374235 -0.00805663 -0.0537996\n",
            "  -0.00200003 -0.0560709  -0.0797725  -0.01524992  0.05618079 -0.05014231\n",
            "  -0.01142445 -0.04232425  0.01653415  0.0136209   0.06882915  0.08129828\n",
            "   0.070645    0.02082348  0.06269849  0.01043059  0.06101019 -0.01103271\n",
            "   0.05643964  0.06975509 -0.07984483 -0.03604213 -0.05615864  0.06398153\n",
            "   0.00359785 -0.0393846   0.04786763  0.07266714  0.08108304 -0.04934776\n",
            "   0.0654349  -0.00378989  0.04947215 -0.01867289 -0.06943978  0.00294695\n",
            "  -0.05873672 -0.05405334  0.01143581  0.05033338  0.01729328 -0.04898249\n",
            "  -0.03576989 -0.05077995  0.06922571 -0.00296546  0.07208741  0.03001804\n",
            "  -0.01156968  0.05034597 -0.0377924  -0.00446523  0.03871856 -0.05970544\n",
            "  -0.03868742 -0.02558534  0.07319564  0.03490172  0.01108918 -0.02482659\n",
            "  -0.00732338  0.00879412  0.02512386 -0.06640295  0.02306653 -0.07111784\n",
            "   0.04878015 -0.05412121  0.0644899   0.05829462  0.00485021 -0.07517903\n",
            "  -0.08127352  0.01398455 -0.01087686  0.00491396  0.00032642 -0.03786841\n",
            "  -0.015799   -0.01706641 -0.03694632 -0.05571079  0.03594894  0.05964185\n",
            "   0.0252764  -0.05601868  0.06627632  0.05845679  0.03998588  0.06273128\n",
            "  -0.05402965  0.01856418 -0.07728111 -0.04009131  0.03571667 -0.03963588\n",
            "  -0.01908616  0.07182691  0.03891179  0.02514367 -0.00447712  0.07140168\n",
            "  -0.02080681 -0.03222646  0.02240951  0.04497413 -0.03426976  0.00845762\n",
            "  -0.02170716 -0.06345544 -0.04684944 -0.0537193   0.02404285  0.00063484\n",
            "   0.00615849 -0.07634497  0.08108306 -0.05303335 -0.0361841   0.02080906\n",
            "   0.01977773 -0.05278689  0.02079959  0.00257993  0.05204537 -0.02730071\n",
            "   0.04625904 -0.01099471  0.05783965 -0.0155673  -0.05267058  0.02756668\n",
            "  -0.04702419 -0.01775116  0.05863616  0.04098032  0.00419512 -0.01219448\n",
            "   0.07301733  0.04801141 -0.02816759 -0.04555537 -0.05094923 -0.04031182\n",
            "  -0.05906272 -0.03512812  0.04037638 -0.02694908  0.05467523 -0.05276214\n",
            "   0.01316451  0.02010681  0.02030727  0.0574161   0.07349549  0.0761251\n",
            "  -0.03056502 -0.03878127 -0.02421504 -0.08121891 -0.05276261  0.00571286\n",
            "   0.03270727 -0.01618217 -0.06496334 -0.06489957  0.00449874  0.01208195\n",
            "   0.04717746 -0.05390154 -0.04586111 -0.03866662 -0.05470641 -0.03223236\n",
            "  -0.07060532  0.04375237  0.01445367  0.01752932  0.01370224 -0.01539907\n",
            "   0.00089963  0.05548779 -0.00868967 -0.07560482 -0.0462253  -0.07310704\n",
            "   0.0773017   0.0664281  -0.05393096  0.04942674  0.05751179  0.03038188\n",
            "  -0.07129285 -0.06652341  0.05738295 -0.04430325  0.03398895  0.03139736\n",
            "  -0.00973344 -0.04112008 -0.07049924 -0.00883608 -0.05539912  0.00378668\n",
            "   0.07392949  0.00958457 -0.00981104  0.0382472  -0.02594445 -0.0374948\n",
            "   0.01539621  0.06202263  0.01845372 -0.03018025  0.04491666 -0.08002571\n",
            "   0.02069094  0.01190933 -0.01211306 -0.06999247  0.02090497 -0.0540963\n",
            "  -0.02192277  0.00190782  0.05436628  0.07583157  0.0118586  -0.0448317\n",
            "   0.00969926 -0.04846586 -0.01427987 -0.06112503  0.07015006 -0.0241147\n",
            "   0.04905681 -0.04847097 -0.00614489  0.05002742  0.017613    0.03137252\n",
            "   0.00848844 -0.04522472 -0.07590417 -0.07915531 -0.00317869  0.06485651\n",
            "  -0.007367    0.02358821]]\n"
          ]
        }
      ]
    },
    {
      "cell_type": "markdown",
      "source": [
        " - Etichetarea textelor cu emotii folosind kMeans (tool)"
      ],
      "metadata": {
        "id": "mPyt1DM7qMc0"
      }
    },
    {
      "cell_type": "code",
      "source": [
        "unsupervisedClassifier = KMeans(n_clusters=2, random_state=0, n_init=10)\n",
        "unsupervisedClassifier.fit(trainFeaturesTf)"
      ],
      "metadata": {
        "id": "AgmpZ3w6qKvt",
        "colab": {
          "base_uri": "https://localhost:8080/",
          "height": 74
        },
        "outputId": "49d60e37-060f-4bda-cc47-7c12c060b559"
      },
      "execution_count": null,
      "outputs": [
        {
          "data": {
            "text/html": [
              "<style>#sk-container-id-2 {color: black;background-color: white;}#sk-container-id-2 pre{padding: 0;}#sk-container-id-2 div.sk-toggleable {background-color: white;}#sk-container-id-2 label.sk-toggleable__label {cursor: pointer;display: block;width: 100%;margin-bottom: 0;padding: 0.3em;box-sizing: border-box;text-align: center;}#sk-container-id-2 label.sk-toggleable__label-arrow:before {content: \"▸\";float: left;margin-right: 0.25em;color: #696969;}#sk-container-id-2 label.sk-toggleable__label-arrow:hover:before {color: black;}#sk-container-id-2 div.sk-estimator:hover label.sk-toggleable__label-arrow:before {color: black;}#sk-container-id-2 div.sk-toggleable__content {max-height: 0;max-width: 0;overflow: hidden;text-align: left;background-color: #f0f8ff;}#sk-container-id-2 div.sk-toggleable__content pre {margin: 0.2em;color: black;border-radius: 0.25em;background-color: #f0f8ff;}#sk-container-id-2 input.sk-toggleable__control:checked~div.sk-toggleable__content {max-height: 200px;max-width: 100%;overflow: auto;}#sk-container-id-2 input.sk-toggleable__control:checked~label.sk-toggleable__label-arrow:before {content: \"▾\";}#sk-container-id-2 div.sk-estimator input.sk-toggleable__control:checked~label.sk-toggleable__label {background-color: #d4ebff;}#sk-container-id-2 div.sk-label input.sk-toggleable__control:checked~label.sk-toggleable__label {background-color: #d4ebff;}#sk-container-id-2 input.sk-hidden--visually {border: 0;clip: rect(1px 1px 1px 1px);clip: rect(1px, 1px, 1px, 1px);height: 1px;margin: -1px;overflow: hidden;padding: 0;position: absolute;width: 1px;}#sk-container-id-2 div.sk-estimator {font-family: monospace;background-color: #f0f8ff;border: 1px dotted black;border-radius: 0.25em;box-sizing: border-box;margin-bottom: 0.5em;}#sk-container-id-2 div.sk-estimator:hover {background-color: #d4ebff;}#sk-container-id-2 div.sk-parallel-item::after {content: \"\";width: 100%;border-bottom: 1px solid gray;flex-grow: 1;}#sk-container-id-2 div.sk-label:hover label.sk-toggleable__label {background-color: #d4ebff;}#sk-container-id-2 div.sk-serial::before {content: \"\";position: absolute;border-left: 1px solid gray;box-sizing: border-box;top: 0;bottom: 0;left: 50%;z-index: 0;}#sk-container-id-2 div.sk-serial {display: flex;flex-direction: column;align-items: center;background-color: white;padding-right: 0.2em;padding-left: 0.2em;position: relative;}#sk-container-id-2 div.sk-item {position: relative;z-index: 1;}#sk-container-id-2 div.sk-parallel {display: flex;align-items: stretch;justify-content: center;background-color: white;position: relative;}#sk-container-id-2 div.sk-item::before, #sk-container-id-2 div.sk-parallel-item::before {content: \"\";position: absolute;border-left: 1px solid gray;box-sizing: border-box;top: 0;bottom: 0;left: 50%;z-index: -1;}#sk-container-id-2 div.sk-parallel-item {display: flex;flex-direction: column;z-index: 1;position: relative;background-color: white;}#sk-container-id-2 div.sk-parallel-item:first-child::after {align-self: flex-end;width: 50%;}#sk-container-id-2 div.sk-parallel-item:last-child::after {align-self: flex-start;width: 50%;}#sk-container-id-2 div.sk-parallel-item:only-child::after {width: 0;}#sk-container-id-2 div.sk-dashed-wrapped {border: 1px dashed gray;margin: 0 0.4em 0.5em 0.4em;box-sizing: border-box;padding-bottom: 0.4em;background-color: white;}#sk-container-id-2 div.sk-label label {font-family: monospace;font-weight: bold;display: inline-block;line-height: 1.2em;}#sk-container-id-2 div.sk-label-container {text-align: center;}#sk-container-id-2 div.sk-container {/* jupyter's `normalize.less` sets `[hidden] { display: none; }` but bootstrap.min.css set `[hidden] { display: none !important; }` so we also need the `!important` here to be able to override the default hidden behavior on the sphinx rendered scikit-learn.org. See: https://github.com/scikit-learn/scikit-learn/issues/21755 */display: inline-block !important;position: relative;}#sk-container-id-2 div.sk-text-repr-fallback {display: none;}</style><div id=\"sk-container-id-2\" class=\"sk-top-container\"><div class=\"sk-text-repr-fallback\"><pre>KMeans(n_clusters=2, n_init=10, random_state=0)</pre><b>In a Jupyter environment, please rerun this cell to show the HTML representation or trust the notebook. <br />On GitHub, the HTML representation is unable to render, please try loading this page with nbviewer.org.</b></div><div class=\"sk-container\" hidden><div class=\"sk-item\"><div class=\"sk-estimator sk-toggleable\"><input class=\"sk-toggleable__control sk-hidden--visually\" id=\"sk-estimator-id-2\" type=\"checkbox\" checked><label for=\"sk-estimator-id-2\" class=\"sk-toggleable__label sk-toggleable__label-arrow\">KMeans</label><div class=\"sk-toggleable__content\"><pre>KMeans(n_clusters=2, n_init=10, random_state=0)</pre></div></div></div></div></div>"
            ],
            "text/plain": [
              "KMeans(n_clusters=2, n_init=10, random_state=0)"
            ]
          },
          "execution_count": 27,
          "metadata": {},
          "output_type": "execute_result"
        }
      ]
    },
    {
      "cell_type": "code",
      "source": [
        "computedTestIndexes = unsupervisedClassifier.predict(testFeaturesTf)\n",
        "computedTestOutputs = [labelNames[value] for value in computedTestIndexes]\n",
        "for i in range(0, len(testInputs)):\n",
        "  print(testInputs[i], \" -> \", computedTestOutputs[i])"
      ],
      "metadata": {
        "id": "FDupOPzbqtEj",
        "colab": {
          "base_uri": "https://localhost:8080/"
        },
        "outputId": "70cb403d-60fa-444d-a9b4-fbff069e6868"
      },
      "execution_count": null,
      "outputs": [
        {
          "output_type": "stream",
          "name": "stdout",
          "text": [
            "The bed is very comfortable.  ->  positive\n",
            "Very spacious rooms, quiet and very comfortable.  ->  positive\n",
            "Corridors filthy\n",
            "Room filthy\n",
            "Electrical cables in room not safe\n",
            "Whole building smelly\n",
            "Shower repulsive  ->  positive\n",
            "walls seem to have no sound insulation  ->  positive\n",
            "The building was under renovation,  ->  negative\n",
            "no elevator might be a challenge for some people  ->  positive\n",
            "The bed was highly uncomfortable, although the engineer fixed it  ->  negative\n",
            "bed, smell.  ->  positive\n",
            "Detest the glass \"door\" if shower/tub .. with?  ->  positive\n",
            "this was expected, clean towels and room cleaned every day.  ->  positive\n",
            "More plug outlets with surge protectors.  ->  positive\n",
            "Room was very spacious  ->  negative\n",
            "Roof terrace great  ->  positive\n",
            "No tea or coffee making facilities in the rooms  ->  positive\n",
            "the room had aircon and we had earplugs and slept soundly.  ->  positive\n",
            "Also, when the bright bathroom lights are turned on, it lights up the whole hotel room, shining thru the frosted glass panels.  ->  positive\n",
            "Bathroom was extra small,  ->  negative\n",
            "Wifi connected  ->  positive\n",
            "Windows haven't been cleaned for years (if ever).  ->  positive\n",
            "No wardrobe, no space for luggage, no towel change, walls are not sound proof thus very noisy.  ->  positive\n",
            "The bed is very comfortable.  ->  positive\n",
            "Very spacious rooms, quiet and very comfortable.  ->  positive\n",
            "Corridors filthy\n",
            "Room filthy\n",
            "Electrical cables in room not safe\n",
            "Whole building smelly\n",
            "Shower repulsive  ->  positive\n",
            "walls seem to have no sound insulation  ->  positive\n",
            "The building was under renovation,  ->  negative\n",
            "no elevator might be a challenge for some people  ->  positive\n",
            "The bed was highly uncomfortable, although the engineer fixed it  ->  negative\n",
            "bed, smell.  ->  positive\n",
            "Detest the glass \"door\" if shower/tub .. with?  ->  positive\n",
            "this was expected, clean towels and room cleaned every day.  ->  positive\n",
            "More plug outlets with surge protectors.  ->  positive\n",
            "Room was very spacious  ->  negative\n",
            "Roof terrace great  ->  positive\n",
            "No tea or coffee making facilities in the rooms  ->  positive\n",
            "the room had aircon and we had earplugs and slept soundly.  ->  positive\n",
            "Also, when the bright bathroom lights are turned on, it lights up the whole hotel room, shining thru the frosted glass panels.  ->  positive\n",
            "Bathroom was extra small,  ->  negative\n",
            "Wifi connected  ->  positive\n",
            "Windows haven't been cleaned for years (if ever).  ->  positive\n",
            "No wardrobe, no space for luggage, no towel change, walls are not sound proof thus very noisy.  ->  positive\n"
          ]
        }
      ]
    },
    {
      "cell_type": "code",
      "source": [
        "print(\"acc: \", accuracy_score(testOutputs, computedTestOutputs))"
      ],
      "metadata": {
        "id": "Zne72lmasrTo",
        "colab": {
          "base_uri": "https://localhost:8080/"
        },
        "outputId": "a8914bed-4138-426d-95b2-3525e9a42344"
      },
      "execution_count": null,
      "outputs": [
        {
          "metadata": {
            "tags": null
          },
          "name": "stdout",
          "output_type": "stream",
          "text": [
            "acc:  0.3\n"
          ]
        }
      ]
    },
    {
      "cell_type": "code",
      "source": [
        "textIndex = unsupervisedClassifier.predict(textTf)\n",
        "textOutput = labelNames[textIndex[0]]\n",
        "print(text[0], ' -> ', textOutput)"
      ],
      "metadata": {
        "id": "6E5to7TAvdNO",
        "colab": {
          "base_uri": "https://localhost:8080/"
        },
        "outputId": "c1a96a9d-dea7-46fa-b21e-ecbc59d0a945"
      },
      "execution_count": null,
      "outputs": [
        {
          "metadata": {
            "tags": null
          },
          "name": "stdout",
          "output_type": "stream",
          "text": [
            "By choosing a bike over a car, I’m reducing my environmental footprint. Cycling promotes eco-friendly transportation, and I’m proud to be part of that movement.  ->  positive\n"
          ]
        }
      ]
    },
    {
      "cell_type": "markdown",
      "source": [
        "1. Implementati algoritmul de clusterizare k-Means"
      ],
      "metadata": {
        "id": "pMAaEOGOpFt2"
      }
    },
    {
      "cell_type": "code",
      "source": [
        "class MyKMeans:\n",
        "  def __init__(self, k, max_iters=100):\n",
        "    self.k = k\n",
        "    self.max_iters = max_iters\n",
        "    self.centers = None\n",
        "    self.clusters = None\n",
        "\n",
        "  def fit(self, X):\n",
        "    n_samples, n_features = X.shape\n",
        "    random_indices = random.sample(range(n_samples), self.k)\n",
        "    self.centers = X[random_indices]\n",
        "\n",
        "    for _ in range(self.max_iters):\n",
        "      self.clusters = self._create_clusters(X)\n",
        "      new_centers = self._calculate_new_centers(X)\n",
        "\n",
        "      if np.all(self.centers == new_centers):\n",
        "        break\n",
        "      self.centers = new_centers\n",
        "\n",
        "  def _create_clusters(self, X):\n",
        "    clusters = [[] for _ in range(self.k)]\n",
        "    for idx, point in enumerate(X):\n",
        "      closest_center = np.argmin([np.linalg.norm(point - center) for center in self.centers])\n",
        "      clusters[closest_center].append(idx)\n",
        "    return clusters\n",
        "\n",
        "  def _calculate_new_centers(self, X):\n",
        "    new_centers = np.array([np.mean(X[cluster], axis=0) for cluster in self.clusters if len(cluster) > 0])\n",
        "    return new_centers\n",
        "\n",
        "  def predict(self, X):\n",
        "    predictions = np.zeros(X.shape[0])\n",
        "    for idx, point in enumerate(X):\n",
        "      closest_center = np.argmin([np.linalg.norm(point - center) for center in self.centers])\n",
        "      predictions[idx] = closest_center\n",
        "    return predictions.astype(int)"
      ],
      "metadata": {
        "id": "RwK6bhXxAqMm"
      },
      "execution_count": null,
      "outputs": []
    },
    {
      "cell_type": "code",
      "source": [
        "myKmeans = MyKMeans(2)\n",
        "trainFeaturesTfArray = trainFeaturesTf.toarray()\n",
        "myKmeans.fit(trainFeaturesTfArray)"
      ],
      "metadata": {
        "id": "oLZ3eC-hI-ix"
      },
      "execution_count": null,
      "outputs": []
    },
    {
      "cell_type": "code",
      "source": [
        "testFeaturesTfArray = testFeaturesTf.toarray()\n",
        "MyComputedTestIndexes = myKmeans.predict(testFeaturesTfArray)\n",
        "MyComputedTestOutputs = [labelNames[value] for value in MyComputedTestIndexes]\n",
        "for i in range(0, len(testInputs)):\n",
        "  print(testInputs[i], \" -> \", MyComputedTestOutputs[i])"
      ],
      "metadata": {
        "id": "hKFJXcD2T1ES",
        "colab": {
          "base_uri": "https://localhost:8080/"
        },
        "outputId": "9e444ed2-f868-4b54-e7d7-f8f8995d4b18"
      },
      "execution_count": null,
      "outputs": [
        {
          "metadata": {
            "tags": null
          },
          "name": "stdout",
          "output_type": "stream",
          "text": [
            "The bed is very comfortable.  ->  positive\n",
            "Very spacious rooms, quiet and very comfortable.  ->  positive\n",
            "Corridors filthy\n",
            "Room filthy\n",
            "Electrical cables in room not safe\n",
            "Whole building smelly\n",
            "Shower repulsive  ->  positive\n",
            "walls seem to have no sound insulation  ->  negative\n",
            "The building was under renovation,  ->  positive\n",
            "no elevator might be a challenge for some people  ->  negative\n",
            "The bed was highly uncomfortable, although the engineer fixed it  ->  positive\n",
            "bed, smell.  ->  negative\n",
            "Detest the glass \"door\" if shower/tub .. with?  ->  positive\n",
            "this was expected, clean towels and room cleaned every day.  ->  negative\n",
            "More plug outlets with surge protectors.  ->  positive\n",
            "Room was very spacious  ->  positive\n",
            "Roof terrace great  ->  positive\n",
            "No tea or coffee making facilities in the rooms  ->  negative\n",
            "the room had aircon and we had earplugs and slept soundly.  ->  positive\n",
            "Also, when the bright bathroom lights are turned on, it lights up the whole hotel room, shining thru the frosted glass panels.  ->  positive\n",
            "Bathroom was extra small,  ->  positive\n",
            "Wifi connected  ->  positive\n",
            "Windows haven't been cleaned for years (if ever).  ->  negative\n",
            "No wardrobe, no space for luggage, no towel change, walls are not sound proof thus very noisy.  ->  negative\n"
          ]
        }
      ]
    },
    {
      "cell_type": "code",
      "source": [
        "print(\"acc: \", accuracy_score(testOutputs, MyComputedTestOutputs))"
      ],
      "metadata": {
        "id": "rk4p3srYUpcj",
        "colab": {
          "base_uri": "https://localhost:8080/"
        },
        "outputId": "f9b916dc-fcb8-486e-fb23-52a7d06a24b1"
      },
      "execution_count": null,
      "outputs": [
        {
          "output_type": "stream",
          "name": "stdout",
          "text": [
            "acc:  0.55\n",
            "acc:  0.55\n"
          ]
        }
      ]
    },
    {
      "cell_type": "code",
      "source": [
        "textIndex = myKmeans.predict(textTf)\n",
        "textOutput = labelNames[textIndex[0]]\n",
        "print(text[0], ' -> ', textOutput)"
      ],
      "metadata": {
        "id": "FKUb_EkRwGZ0",
        "colab": {
          "base_uri": "https://localhost:8080/"
        },
        "outputId": "2fee136c-50d2-4729-c9fc-f1dd3eca6cc5"
      },
      "execution_count": null,
      "outputs": [
        {
          "metadata": {
            "tags": null
          },
          "name": "stdout",
          "output_type": "stream",
          "text": [
            "By choosing a bike over a car, I’m reducing my environmental footprint. Cycling promotes eco-friendly transportation, and I’m proud to be part of that movement.  ->  positive\n"
          ]
        }
      ]
    },
    {
      "cell_type": "markdown",
      "source": [
        "2. Ce alternative exista la algoritmul k-means? Au ele o performanta mai buna pentru problema data?"
      ],
      "metadata": {
        "id": "1279bBSZGIii"
      }
    },
    {
      "cell_type": "code",
      "source": [
        "# Gaussian Mixture Model\n",
        "gmm = GaussianMixture(n_components=2, random_state=0)\n",
        "gmm.fit(trainFeaturesTfArray)"
      ],
      "metadata": {
        "id": "EyokR3HBGLHT",
        "colab": {
          "base_uri": "https://localhost:8080/",
          "height": 74
        },
        "outputId": "fe951a3f-0b38-46ab-e021-a06615cd69ad"
      },
      "execution_count": null,
      "outputs": [
        {
          "data": {
            "text/html": [
              "<style>#sk-container-id-3 {color: black;background-color: white;}#sk-container-id-3 pre{padding: 0;}#sk-container-id-3 div.sk-toggleable {background-color: white;}#sk-container-id-3 label.sk-toggleable__label {cursor: pointer;display: block;width: 100%;margin-bottom: 0;padding: 0.3em;box-sizing: border-box;text-align: center;}#sk-container-id-3 label.sk-toggleable__label-arrow:before {content: \"▸\";float: left;margin-right: 0.25em;color: #696969;}#sk-container-id-3 label.sk-toggleable__label-arrow:hover:before {color: black;}#sk-container-id-3 div.sk-estimator:hover label.sk-toggleable__label-arrow:before {color: black;}#sk-container-id-3 div.sk-toggleable__content {max-height: 0;max-width: 0;overflow: hidden;text-align: left;background-color: #f0f8ff;}#sk-container-id-3 div.sk-toggleable__content pre {margin: 0.2em;color: black;border-radius: 0.25em;background-color: #f0f8ff;}#sk-container-id-3 input.sk-toggleable__control:checked~div.sk-toggleable__content {max-height: 200px;max-width: 100%;overflow: auto;}#sk-container-id-3 input.sk-toggleable__control:checked~label.sk-toggleable__label-arrow:before {content: \"▾\";}#sk-container-id-3 div.sk-estimator input.sk-toggleable__control:checked~label.sk-toggleable__label {background-color: #d4ebff;}#sk-container-id-3 div.sk-label input.sk-toggleable__control:checked~label.sk-toggleable__label {background-color: #d4ebff;}#sk-container-id-3 input.sk-hidden--visually {border: 0;clip: rect(1px 1px 1px 1px);clip: rect(1px, 1px, 1px, 1px);height: 1px;margin: -1px;overflow: hidden;padding: 0;position: absolute;width: 1px;}#sk-container-id-3 div.sk-estimator {font-family: monospace;background-color: #f0f8ff;border: 1px dotted black;border-radius: 0.25em;box-sizing: border-box;margin-bottom: 0.5em;}#sk-container-id-3 div.sk-estimator:hover {background-color: #d4ebff;}#sk-container-id-3 div.sk-parallel-item::after {content: \"\";width: 100%;border-bottom: 1px solid gray;flex-grow: 1;}#sk-container-id-3 div.sk-label:hover label.sk-toggleable__label {background-color: #d4ebff;}#sk-container-id-3 div.sk-serial::before {content: \"\";position: absolute;border-left: 1px solid gray;box-sizing: border-box;top: 0;bottom: 0;left: 50%;z-index: 0;}#sk-container-id-3 div.sk-serial {display: flex;flex-direction: column;align-items: center;background-color: white;padding-right: 0.2em;padding-left: 0.2em;position: relative;}#sk-container-id-3 div.sk-item {position: relative;z-index: 1;}#sk-container-id-3 div.sk-parallel {display: flex;align-items: stretch;justify-content: center;background-color: white;position: relative;}#sk-container-id-3 div.sk-item::before, #sk-container-id-3 div.sk-parallel-item::before {content: \"\";position: absolute;border-left: 1px solid gray;box-sizing: border-box;top: 0;bottom: 0;left: 50%;z-index: -1;}#sk-container-id-3 div.sk-parallel-item {display: flex;flex-direction: column;z-index: 1;position: relative;background-color: white;}#sk-container-id-3 div.sk-parallel-item:first-child::after {align-self: flex-end;width: 50%;}#sk-container-id-3 div.sk-parallel-item:last-child::after {align-self: flex-start;width: 50%;}#sk-container-id-3 div.sk-parallel-item:only-child::after {width: 0;}#sk-container-id-3 div.sk-dashed-wrapped {border: 1px dashed gray;margin: 0 0.4em 0.5em 0.4em;box-sizing: border-box;padding-bottom: 0.4em;background-color: white;}#sk-container-id-3 div.sk-label label {font-family: monospace;font-weight: bold;display: inline-block;line-height: 1.2em;}#sk-container-id-3 div.sk-label-container {text-align: center;}#sk-container-id-3 div.sk-container {/* jupyter's `normalize.less` sets `[hidden] { display: none; }` but bootstrap.min.css set `[hidden] { display: none !important; }` so we also need the `!important` here to be able to override the default hidden behavior on the sphinx rendered scikit-learn.org. See: https://github.com/scikit-learn/scikit-learn/issues/21755 */display: inline-block !important;position: relative;}#sk-container-id-3 div.sk-text-repr-fallback {display: none;}</style><div id=\"sk-container-id-3\" class=\"sk-top-container\"><div class=\"sk-text-repr-fallback\"><pre>GaussianMixture(n_components=2, random_state=0)</pre><b>In a Jupyter environment, please rerun this cell to show the HTML representation or trust the notebook. <br />On GitHub, the HTML representation is unable to render, please try loading this page with nbviewer.org.</b></div><div class=\"sk-container\" hidden><div class=\"sk-item\"><div class=\"sk-estimator sk-toggleable\"><input class=\"sk-toggleable__control sk-hidden--visually\" id=\"sk-estimator-id-3\" type=\"checkbox\" checked><label for=\"sk-estimator-id-3\" class=\"sk-toggleable__label sk-toggleable__label-arrow\">GaussianMixture</label><div class=\"sk-toggleable__content\"><pre>GaussianMixture(n_components=2, random_state=0)</pre></div></div></div></div></div>"
            ],
            "text/plain": [
              "GaussianMixture(n_components=2, random_state=0)"
            ]
          },
          "execution_count": 36,
          "metadata": {},
          "output_type": "execute_result"
        }
      ]
    },
    {
      "cell_type": "code",
      "source": [
        "computedTestIndexes = gmm.predict(testFeaturesTfArray)\n",
        "computedTestOutputs = [labelNames[value] for value in computedTestIndexes]\n",
        "for i in range(0, len(testInputs)):\n",
        "  print(testInputs[i], \" -> \", computedTestOutputs[i])"
      ],
      "metadata": {
        "id": "vtOt8NVxKDhE",
        "colab": {
          "base_uri": "https://localhost:8080/"
        },
        "outputId": "7bd722b7-8b51-48cb-b3cf-260819e78cfb"
      },
      "execution_count": null,
      "outputs": [
        {
          "metadata": {
            "tags": null
          },
          "name": "stdout",
          "output_type": "stream",
          "text": [
            "The bed is very comfortable.  ->  negative\n",
            "Very spacious rooms, quiet and very comfortable.  ->  negative\n",
            "Corridors filthy\n",
            "Room filthy\n",
            "Electrical cables in room not safe\n",
            "Whole building smelly\n",
            "Shower repulsive  ->  negative\n",
            "walls seem to have no sound insulation  ->  negative\n",
            "The building was under renovation,  ->  negative\n",
            "no elevator might be a challenge for some people  ->  positive\n",
            "The bed was highly uncomfortable, although the engineer fixed it  ->  negative\n",
            "bed, smell.  ->  negative\n",
            "Detest the glass \"door\" if shower/tub .. with?  ->  negative\n",
            "this was expected, clean towels and room cleaned every day.  ->  negative\n",
            "More plug outlets with surge protectors.  ->  negative\n",
            "Room was very spacious  ->  negative\n",
            "Roof terrace great  ->  positive\n",
            "No tea or coffee making facilities in the rooms  ->  negative\n",
            "the room had aircon and we had earplugs and slept soundly.  ->  negative\n",
            "Also, when the bright bathroom lights are turned on, it lights up the whole hotel room, shining thru the frosted glass panels.  ->  negative\n",
            "Bathroom was extra small,  ->  negative\n",
            "Wifi connected  ->  positive\n",
            "Windows haven't been cleaned for years (if ever).  ->  negative\n",
            "No wardrobe, no space for luggage, no towel change, walls are not sound proof thus very noisy.  ->  negative\n"
          ]
        }
      ]
    },
    {
      "cell_type": "code",
      "source": [
        "print(\"acc: \", accuracy_score(testOutputs, computedTestOutputs))"
      ],
      "metadata": {
        "id": "l7WCcbDjMX-o",
        "colab": {
          "base_uri": "https://localhost:8080/"
        },
        "outputId": "b363b97c-64ce-4b62-9182-3297b74791d4"
      },
      "execution_count": null,
      "outputs": [
        {
          "metadata": {
            "tags": null
          },
          "name": "stdout",
          "output_type": "stream",
          "text": [
            "acc:  0.55\n"
          ]
        }
      ]
    }
  ]
}